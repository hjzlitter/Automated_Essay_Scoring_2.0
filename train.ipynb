{
 "cells": [
  {
   "cell_type": "code",
   "execution_count": 14,
   "id": "f5bb4752-dbea-416b-bdd8-dd10a596f781",
   "metadata": {
    "tags": []
   },
   "outputs": [],
   "source": [
    "import gc\n",
    "import torch\n",
    "import copy\n",
    "from datasets import Dataset\n",
    "from transformers import AutoTokenizer, AutoModelForSequenceClassification, Trainer, TrainingArguments,DataCollatorWithPadding\n",
    "# import nltk\n",
    "from datasets import Dataset\n",
    "from glob import glob\n",
    "import numpy as np \n",
    "import pandas as pd\n",
    "import polars as pl\n",
    "import re\n",
    "import random\n",
    "\n",
    "\n",
    "import warnings\n",
    "warnings.filterwarnings('ignore')\n",
    "from scipy.special import softmax\n",
    "from sklearn.model_selection import train_test_split, GridSearchCV, RandomizedSearchCV\n",
    "from sklearn.ensemble import RandomForestClassifier, ExtraTreesClassifier, AdaBoostClassifier,GradientBoostingClassifier,BaggingClassifier\n",
    "from sklearn.linear_model import LogisticRegression, Perceptron\n",
    "from sklearn.svm import LinearSVC\n",
    "from sklearn.naive_bayes import GaussianNB,MultinomialNB,ComplementNB\n",
    "from sklearn.neural_network import MLPClassifier\n",
    "from sklearn import tree\n",
    "from sklearn.neighbors import KNeighborsClassifier\n",
    "from sklearn.feature_extraction.text import CountVectorizer,TfidfVectorizer\n",
    "from sklearn.pipeline import Pipeline\n",
    "from imblearn.ensemble import BalancedBaggingClassifier\n",
    "from sklearn.feature_selection import SelectFromModel\n",
    "from sklearn.datasets import make_classification\n",
    "from sklearn.metrics import confusion_matrix, ConfusionMatrixDisplay\n",
    "from sklearn.model_selection import train_test_split, StratifiedKFold\n",
    "from sklearn.metrics import confusion_matrix, ConfusionMatrixDisplay, f1_score\n",
    "from sklearn.metrics import cohen_kappa_score\n",
    "from lightgbm import log_evaluation, early_stopping\n",
    "import lightgbm as lgb\n",
    "\n",
    "# nltk.download('wordnet')"
   ]
  },
  {
   "cell_type": "code",
   "execution_count": 15,
   "id": "22f92152-14a2-477b-ba4e-6c74314b9946",
   "metadata": {
    "tags": []
   },
   "outputs": [],
   "source": [
    "MAX_LENGTH = 1024\n",
    "BASE_PATH = \"/root/autodl-tmp/socre/\"\n",
    "TEST_DATA_PATH = \"test.csv\"\n",
    "# MODEL_PATH = '/kaggle/input/aes-deberta-large/*/*'\n",
    "EVAL_BATCH_SIZE = 1"
   ]
  },
  {
   "cell_type": "markdown",
   "id": "d48d283e-5a02-4b54-949e-b1aefcab6d64",
   "metadata": {},
   "source": [
    "# DATA LOADER"
   ]
  },
  {
   "cell_type": "code",
   "execution_count": 16,
   "id": "a5b0e016-1304-43e3-a182-a059c3759e22",
   "metadata": {
    "tags": []
   },
   "outputs": [
    {
     "data": {
      "text/html": [
       "<div><style>\n",
       ".dataframe > thead > tr,\n",
       ".dataframe > tbody > tr {\n",
       "  text-align: right;\n",
       "  white-space: pre-wrap;\n",
       "}\n",
       "</style>\n",
       "<small>shape: (1, 4)</small><table border=\"1\" class=\"dataframe\"><thead><tr><th>essay_id</th><th>full_text</th><th>score</th><th>paragraph</th></tr><tr><td>str</td><td>str</td><td>i64</td><td>list[str]</td></tr></thead><tbody><tr><td>&quot;000d118&quot;</td><td>&quot;Many people ha…</td><td>3</td><td>[&quot;Many people have car where they live. The thing they don&#x27;t know is that when you use a car alot of thing can happen like you can get in accidet or the smoke that the car has is bad to breath on if someone is walk but in VAUBAN,Germany they dont have that proble because 70 percent of vauban&#x27;s families do not own cars,and 57 percent sold a car to move there. Street parkig ,driveways and home garages are forbidden on the outskirts of freiburd that near the French and Swiss borders. You probaly won&#x27;t see a car in Vauban&#x27;s streets because they are completely &quot;car free&quot; but If some that lives in VAUBAN that owns a car ownership is allowed,but there are only two places that you can park a large garages at the edge of the development,where a car owner buys a space but it not cheap to buy one they sell the space for you car for $40,000 along with a home. The vauban people completed this in 2006 ,they said that this an example of a growing trend in Europe,The untile states and some where else are suburban life from auto use this is called &quot;smart planning&quot;. The current efforts to drastically reduce greenhouse gas emissions from tailes the passengee cars are responsible for 12 percent of greenhouse gas emissions in Europe and up to 50 percent in some car intensive in the United States. I honeslty think that good idea that they did that is Vaudan because that makes cities denser and better for walking and in VAUBAN there are 5,500 residents within a rectangular square mile. In the artical David Gold berg said that &quot;All of our development since World war 2 has been centered on the cars,and that will have to change&quot; and i think that was very true what David Gold said because alot thing we need cars to do we can go anyway were with out cars beacuse some people are a very lazy to walk to place thats why they alot of people use car and i think that it was a good idea that that they did that in VAUBAN so people can see how we really don&#x27;t need car to go to place from place because we can walk from were we need to go or we can ride bycles with out the use of a car. It good that they are doing that if you thik about your help the earth in way and thats a very good thing to. In the United states ,the Environmental protection Agency is promoting what is called &quot;car reduced&quot;communtunties,and the legislators are starting to act,if cautiously. Maany experts expect pubic transport serving suburbs to play a much larger role in a new six years federal transportation bill to approved this year. In previous bill,80 percent of appropriations have by law gone to highways and only 20 percent to other transports. There many good reason why they should do this.    &quot;]</td></tr></tbody></table></div>"
      ],
      "text/plain": [
       "shape: (1, 4)\n",
       "┌──────────┬───────────────────────────────────┬───────┬───────────────────────────────────┐\n",
       "│ essay_id ┆ full_text                         ┆ score ┆ paragraph                         │\n",
       "│ ---      ┆ ---                               ┆ ---   ┆ ---                               │\n",
       "│ str      ┆ str                               ┆ i64   ┆ list[str]                         │\n",
       "╞══════════╪═══════════════════════════════════╪═══════╪═══════════════════════════════════╡\n",
       "│ 000d118  ┆ Many people have car where they … ┆ 3     ┆ [\"Many people have car where the… │\n",
       "└──────────┴───────────────────────────────────┴───────┴───────────────────────────────────┘"
      ]
     },
     "execution_count": 16,
     "metadata": {},
     "output_type": "execute_result"
    }
   ],
   "source": [
    "columns = [  \n",
    "    (\n",
    "        pl.col(\"full_text\").str.split(by=\"\\n\\n\").alias(\"paragraph\")\n",
    "    ),\n",
    "]\n",
    "PATH = BASE_PATH\n",
    "\n",
    "train = pl.read_csv(PATH + \"train.csv\").with_columns(columns)\n",
    "test = pl.read_csv(PATH + \"test.csv\").with_columns(columns)\n",
    "\n",
    "train.head(1)"
   ]
  },
  {
   "cell_type": "markdown",
   "id": "eabdf2e5-d5d0-49ba-8372-45c9ec96a397",
   "metadata": {
    "tags": []
   },
   "source": [
    "# PREPROCESSING"
   ]
  },
  {
   "cell_type": "code",
   "execution_count": 4,
   "id": "cc920d3c-c190-48b2-82fc-c096bee07378",
   "metadata": {
    "tags": []
   },
   "outputs": [],
   "source": [
    "cList = {\n",
    "  \"ain't\": \"am not\",\"aren't\": \"are not\",\"can't\": \"cannot\",\"can't've\": \"cannot have\",\"'cause\": \"because\",  \"could've\": \"could have\",\"couldn't\": \"could not\",\"couldn't've\": \"could not have\",\"didn't\": \"did not\",\"doesn't\": \"does not\",\"don't\": \"do not\",\"hadn't\": \"had not\",\"hadn't've\": \"had not have\",\"hasn't\": \"has not\",\n",
    "  \"haven't\": \"have not\",\"he'd\": \"he would\",\"he'd've\": \"he would have\",\"he'll\": \"he will\",\"he'll've\": \"he will have\",\"he's\": \"he is\",\n",
    "  \"how'd\": \"how did\",\"how'd'y\": \"how do you\",\"how'll\": \"how will\",\"how's\": \"how is\",\"I'd\": \"I would\",\"I'd've\": \"I would have\",\"I'll\": \"I will\",\"I'll've\": \"I will have\",\"I'm\": \"I am\",\"I've\": \"I have\",\n",
    "  \"isn't\": \"is not\",\"it'd\": \"it had\",\"it'd've\": \"it would have\",\"it'll\": \"it will\", \"it'll've\": \"it will have\",\"it's\": \"it is\",\"let's\": \"let us\",\"ma'am\": \"madam\",\"mayn't\": \"may not\",\n",
    "  \"might've\": \"might have\",\"mightn't\": \"might not\",\"mightn't've\": \"might not have\",\"must've\": \"must have\",\"mustn't\": \"must not\",\"mustn't've\": \"must not have\",\"needn't\": \"need not\",\"needn't've\": \"need not have\",\"o'clock\": \"of the clock\",\"oughtn't\": \"ought not\",\"oughtn't've\": \"ought not have\",\"shan't\": \"shall not\",\"sha'n't\": \"shall not\",\n",
    "  \"shan't've\": \"shall not have\",\"she'd\": \"she would\",\"she'd've\": \"she would have\",\"she'll\": \"she will\",\"she'll've\": \"she will have\",\"she's\": \"she is\",\n",
    "  \"should've\": \"should have\",\"shouldn't\": \"should not\",\"shouldn't've\": \"should not have\",\"so've\": \"so have\",\"so's\": \"so is\",\"that'd\": \"that would\",\"that'd've\": \"that would have\",\"that's\": \"that is\",\"there'd\": \"there had\",\"there'd've\": \"there would have\",\"there's\": \"there is\",\"they'd\": \"they would\",\"they'd've\": \"they would have\",\"they'll\": \"they will\",\"they'll've\": \"they will have\",\"they're\": \"they are\",\"they've\": \"they have\",\"to've\": \"to have\",\"wasn't\": \"was not\",\"we'd\": \"we had\",\n",
    "  \"we'd've\": \"we would have\",\"we'll\": \"we will\",\"we'll've\": \"we will have\",\"we're\": \"we are\",\"we've\": \"we have\",\n",
    "  \"weren't\": \"were not\",\"what'll\": \"what will\",\"what'll've\": \"what will have\",\n",
    "  \"what're\": \"what are\",\"what's\": \"what is\",\"what've\": \"what have\",\"when's\": \"when is\",\"when've\": \"when have\",\n",
    "  \"where'd\": \"where did\",\"where's\": \"where is\",\"where've\": \"where have\",\"who'll\": \"who will\",\"who'll've\": \"who will have\",\"who's\": \"who is\",\"who've\": \"who have\",\"why's\": \"why is\",\n",
    "  \"why've\": \"why have\",\"will've\": \"will have\",\"won't\": \"will not\",\"won't've\": \"will not have\",\"would've\": \"would have\",\"wouldn't\": \"would not\",\n",
    "  \"wouldn't've\": \"would not have\",\"y'all\": \"you all\",\"y'alls\": \"you alls\",\"y'all'd\": \"you all would\",\n",
    "  \"y'all'd've\": \"you all would have\",\"y'all're\": \"you all are\",\"y'all've\": \"you all have\",\"you'd\": \"you had\",\"you'd've\": \"you would have\",\"you'll\": \"you you will\",\"you'll've\": \"you you will have\",\"you're\": \"you are\",  \"you've\": \"you have\"\n",
    "   }\n",
    "\n",
    "c_re = re.compile('(%s)' % '|'.join(cList.keys()))\n",
    "\n",
    "def expandContractions(text, c_re=c_re):\n",
    "    def replace(match):\n",
    "        return cList[match.group(0)]\n",
    "    return c_re.sub(replace, text)\n",
    "\n",
    "def removeHTML(x):\n",
    "    html=re.compile(r'<.*?>')\n",
    "    return html.sub(r'',x)\n",
    "def dataPreprocessing(x):\n",
    "    x = x.lower()\n",
    "    x = removeHTML(x)\n",
    "    x = re.sub(\"@\\w+\", '',x)\n",
    "    x = re.sub(\"'\\d+\", '',x)\n",
    "    x = re.sub(\"\\d+\", '',x)\n",
    "    x = re.sub(\"http\\w+\", '',x)\n",
    "    x = re.sub(r\"\\s+\", \" \", x)\n",
    "#     x = expandContractions(x)\n",
    "    x = re.sub(r\"\\.+\", \".\", x)\n",
    "    x = re.sub(r\"\\,+\", \",\", x)\n",
    "    x = x.strip()\n",
    "    return x"
   ]
  },
  {
   "cell_type": "markdown",
   "id": "47575fae-23a4-4dc9-af27-43acc8f5c47e",
   "metadata": {
    "tags": []
   },
   "source": [
    "## Paragraph feature"
   ]
  },
  {
   "cell_type": "markdown",
   "id": "76141988-e15b-42e4-ab73-b9dcad58c18c",
   "metadata": {},
   "source": [
    "* 预处理：首先，通过 Paragraph_Preprocess 函数对原始文本数据进行预处理。这包括将包含段落的列表或数组的列拆分成多行，然后对每个段落进行预处理，例如清理文本、分词等，最后计算每个段落的长度、句子数量和单词数量。\n",
    "* 特征提取：接下来，通过 Paragraph_Eng 函数对预处理后的数据进行特征提取。这一步骤利用各种聚合操作，统计了不同长度区间内段落的数量，以及段落长度、句子数量和单词数量的最大、平均、最小、第一个和最后一个值等特征"
   ]
  },
  {
   "cell_type": "code",
   "execution_count": 5,
   "id": "e6488b17-6406-4543-86a4-1f462fba7be3",
   "metadata": {
    "tags": []
   },
   "outputs": [
    {
     "name": "stdout",
     "output_type": "stream",
     "text": [
      "Number of Features:  31\n"
     ]
    },
    {
     "data": {
      "text/html": [
       "<div>\n",
       "<style scoped>\n",
       "    .dataframe tbody tr th:only-of-type {\n",
       "        vertical-align: middle;\n",
       "    }\n",
       "\n",
       "    .dataframe tbody tr th {\n",
       "        vertical-align: top;\n",
       "    }\n",
       "\n",
       "    .dataframe thead th {\n",
       "        text-align: right;\n",
       "    }\n",
       "</style>\n",
       "<table border=\"1\" class=\"dataframe\">\n",
       "  <thead>\n",
       "    <tr style=\"text-align: right;\">\n",
       "      <th></th>\n",
       "      <th>essay_id</th>\n",
       "      <th>paragraph_50_cnt</th>\n",
       "      <th>paragraph_75_cnt</th>\n",
       "      <th>paragraph_100_cnt</th>\n",
       "      <th>paragraph_125_cnt</th>\n",
       "      <th>paragraph_150_cnt</th>\n",
       "      <th>paragraph_175_cnt</th>\n",
       "      <th>paragraph_200_cnt</th>\n",
       "      <th>paragraph_250_cnt</th>\n",
       "      <th>paragraph_300_cnt</th>\n",
       "      <th>...</th>\n",
       "      <th>paragraph_len_min</th>\n",
       "      <th>paragraph_sentence_cnt_min</th>\n",
       "      <th>paragraph_word_cnt_min</th>\n",
       "      <th>paragraph_len_first</th>\n",
       "      <th>paragraph_sentence_cnt_first</th>\n",
       "      <th>paragraph_word_cnt_first</th>\n",
       "      <th>paragraph_len_last</th>\n",
       "      <th>paragraph_sentence_cnt_last</th>\n",
       "      <th>paragraph_word_cnt_last</th>\n",
       "      <th>score</th>\n",
       "    </tr>\n",
       "  </thead>\n",
       "  <tbody>\n",
       "    <tr>\n",
       "      <th>0</th>\n",
       "      <td>000d118</td>\n",
       "      <td>1</td>\n",
       "      <td>1</td>\n",
       "      <td>1</td>\n",
       "      <td>1</td>\n",
       "      <td>1</td>\n",
       "      <td>1</td>\n",
       "      <td>1</td>\n",
       "      <td>1</td>\n",
       "      <td>1</td>\n",
       "      <td>...</td>\n",
       "      <td>2640</td>\n",
       "      <td>14</td>\n",
       "      <td>491</td>\n",
       "      <td>2640</td>\n",
       "      <td>14</td>\n",
       "      <td>491</td>\n",
       "      <td>2640</td>\n",
       "      <td>14</td>\n",
       "      <td>491</td>\n",
       "      <td>3</td>\n",
       "    </tr>\n",
       "    <tr>\n",
       "      <th>1</th>\n",
       "      <td>000fe60</td>\n",
       "      <td>5</td>\n",
       "      <td>5</td>\n",
       "      <td>5</td>\n",
       "      <td>5</td>\n",
       "      <td>5</td>\n",
       "      <td>5</td>\n",
       "      <td>4</td>\n",
       "      <td>3</td>\n",
       "      <td>3</td>\n",
       "      <td>...</td>\n",
       "      <td>184</td>\n",
       "      <td>3</td>\n",
       "      <td>37</td>\n",
       "      <td>184</td>\n",
       "      <td>4</td>\n",
       "      <td>37</td>\n",
       "      <td>235</td>\n",
       "      <td>3</td>\n",
       "      <td>46</td>\n",
       "      <td>3</td>\n",
       "    </tr>\n",
       "    <tr>\n",
       "      <th>2</th>\n",
       "      <td>001ab80</td>\n",
       "      <td>4</td>\n",
       "      <td>4</td>\n",
       "      <td>4</td>\n",
       "      <td>4</td>\n",
       "      <td>4</td>\n",
       "      <td>4</td>\n",
       "      <td>4</td>\n",
       "      <td>4</td>\n",
       "      <td>4</td>\n",
       "      <td>...</td>\n",
       "      <td>476</td>\n",
       "      <td>5</td>\n",
       "      <td>85</td>\n",
       "      <td>576</td>\n",
       "      <td>5</td>\n",
       "      <td>101</td>\n",
       "      <td>476</td>\n",
       "      <td>5</td>\n",
       "      <td>85</td>\n",
       "      <td>4</td>\n",
       "    </tr>\n",
       "  </tbody>\n",
       "</table>\n",
       "<p>3 rows × 33 columns</p>\n",
       "</div>"
      ],
      "text/plain": [
       "  essay_id  paragraph_50_cnt  paragraph_75_cnt  paragraph_100_cnt  \\\n",
       "0  000d118                 1                 1                  1   \n",
       "1  000fe60                 5                 5                  5   \n",
       "2  001ab80                 4                 4                  4   \n",
       "\n",
       "   paragraph_125_cnt  paragraph_150_cnt  paragraph_175_cnt  paragraph_200_cnt  \\\n",
       "0                  1                  1                  1                  1   \n",
       "1                  5                  5                  5                  4   \n",
       "2                  4                  4                  4                  4   \n",
       "\n",
       "   paragraph_250_cnt  paragraph_300_cnt  ...  paragraph_len_min  \\\n",
       "0                  1                  1  ...               2640   \n",
       "1                  3                  3  ...                184   \n",
       "2                  4                  4  ...                476   \n",
       "\n",
       "   paragraph_sentence_cnt_min  paragraph_word_cnt_min  paragraph_len_first  \\\n",
       "0                          14                     491                 2640   \n",
       "1                           3                      37                  184   \n",
       "2                           5                      85                  576   \n",
       "\n",
       "   paragraph_sentence_cnt_first  paragraph_word_cnt_first  paragraph_len_last  \\\n",
       "0                            14                       491                2640   \n",
       "1                             4                        37                 235   \n",
       "2                             5                       101                 476   \n",
       "\n",
       "   paragraph_sentence_cnt_last  paragraph_word_cnt_last  score  \n",
       "0                           14                      491      3  \n",
       "1                            3                       46      3  \n",
       "2                            5                       85      4  \n",
       "\n",
       "[3 rows x 33 columns]"
      ]
     },
     "execution_count": 5,
     "metadata": {},
     "output_type": "execute_result"
    }
   ],
   "source": [
    "def Paragraph_Preprocess(tmp):\n",
    "    \n",
    "    tmp = tmp.explode('paragraph')\n",
    "    tmp = tmp.with_columns(pl.col('paragraph').map_elements(dataPreprocessing))\n",
    "    tmp = tmp.with_columns(pl.col('paragraph').map_elements(lambda x: len(x)).alias(\"paragraph_len\"))\n",
    "    tmp = tmp.with_columns(pl.col('paragraph').map_elements(lambda x: len(x.split('.'))).alias(\"paragraph_sentence_cnt\"),\n",
    "                    pl.col('paragraph').map_elements(lambda x: len(x.split(' '))).alias(\"paragraph_word_cnt\"),)\n",
    "    return tmp\n",
    "\n",
    "paragraph_fea = ['paragraph_len','paragraph_sentence_cnt','paragraph_word_cnt']\n",
    "\n",
    "def Paragraph_Eng(train_tmp):\n",
    "    aggs = [\n",
    "        \n",
    "        *[pl.col('paragraph').filter(pl.col('paragraph_len') >= i).count().alias(f\"paragraph_{i}_cnt\") for i in [50,75,100,125,150,175,200,250,300,350,400,500,600,700] ], \n",
    "        *[pl.col('paragraph').filter(pl.col('paragraph_len') <= i).count().alias(f\"paragraph_{i}_cnt\") for i in [25,49]], \n",
    "        *[pl.col(fea).max().alias(f\"{fea}_max\") for fea in paragraph_fea],\n",
    "        *[pl.col(fea).mean().alias(f\"{fea}_mean\") for fea in paragraph_fea],\n",
    "        *[pl.col(fea).min().alias(f\"{fea}_min\") for fea in paragraph_fea],\n",
    "        *[pl.col(fea).first().alias(f\"{fea}_first\") for fea in paragraph_fea],\n",
    "        *[pl.col(fea).last().alias(f\"{fea}_last\") for fea in paragraph_fea],\n",
    "        ]\n",
    "    df = train_tmp.group_by(['essay_id'], maintain_order=True).agg(aggs).sort(\"essay_id\")\n",
    "    df = df.to_pandas()\n",
    "    return df\n",
    "tmp = Paragraph_Preprocess(train)\n",
    "train_feats = Paragraph_Eng(tmp)\n",
    "train_feats['score'] = train['score']\n",
    "feature_names = list(filter(lambda x: x not in ['essay_id','score'], train_feats.columns))\n",
    "print('Number of Features: ',len(feature_names))\n",
    "train_feats.head(3)"
   ]
  },
  {
   "cell_type": "markdown",
   "id": "5005d3fb-c481-4cd6-8740-1b300b6cdc81",
   "metadata": {},
   "source": [
    "## Sentence feature"
   ]
  },
  {
   "cell_type": "markdown",
   "id": "1a1b5d81-30d5-4ed1-bf74-d481936bea68",
   "metadata": {},
   "source": [
    "* 句子预处理：首先，通过 Sentence_Preprocess 函数对原始文本数据中的完整文本进行预处理。这包括将文本拆分成句子，并对每个句子进行预处理，例如清理文本、分词等。然后，根据句子长度过滤掉长度小于15的句子。\n",
    "* 句子特征提取：接下来，通过 Sentence_Eng 函数对预处理后的句子数据进行特征提取。这一步骤利用各种聚合操作，统计了不同长度区间内句子的数量，以及句子长度和单词数量的最大、平均、最小、第一个和最后一个值等特征"
   ]
  },
  {
   "cell_type": "code",
   "execution_count": 6,
   "id": "e1f97e5b-caec-4924-b4c9-871a346fd7ed",
   "metadata": {
    "tags": []
   },
   "outputs": [
    {
     "name": "stdout",
     "output_type": "stream",
     "text": [
      "Number of Features:  48\n"
     ]
    },
    {
     "data": {
      "text/html": [
       "<div>\n",
       "<style scoped>\n",
       "    .dataframe tbody tr th:only-of-type {\n",
       "        vertical-align: middle;\n",
       "    }\n",
       "\n",
       "    .dataframe tbody tr th {\n",
       "        vertical-align: top;\n",
       "    }\n",
       "\n",
       "    .dataframe thead th {\n",
       "        text-align: right;\n",
       "    }\n",
       "</style>\n",
       "<table border=\"1\" class=\"dataframe\">\n",
       "  <thead>\n",
       "    <tr style=\"text-align: right;\">\n",
       "      <th></th>\n",
       "      <th>essay_id</th>\n",
       "      <th>paragraph_50_cnt</th>\n",
       "      <th>paragraph_75_cnt</th>\n",
       "      <th>paragraph_100_cnt</th>\n",
       "      <th>paragraph_125_cnt</th>\n",
       "      <th>paragraph_150_cnt</th>\n",
       "      <th>paragraph_175_cnt</th>\n",
       "      <th>paragraph_200_cnt</th>\n",
       "      <th>paragraph_250_cnt</th>\n",
       "      <th>paragraph_300_cnt</th>\n",
       "      <th>...</th>\n",
       "      <th>sentence_len_max</th>\n",
       "      <th>sentence_word_cnt_max</th>\n",
       "      <th>sentence_len_mean</th>\n",
       "      <th>sentence_word_cnt_mean</th>\n",
       "      <th>sentence_len_min</th>\n",
       "      <th>sentence_word_cnt_min</th>\n",
       "      <th>sentence_len_first</th>\n",
       "      <th>sentence_word_cnt_first</th>\n",
       "      <th>sentence_len_last</th>\n",
       "      <th>sentence_word_cnt_last</th>\n",
       "    </tr>\n",
       "  </thead>\n",
       "  <tbody>\n",
       "    <tr>\n",
       "      <th>0</th>\n",
       "      <td>000d118</td>\n",
       "      <td>1</td>\n",
       "      <td>1</td>\n",
       "      <td>1</td>\n",
       "      <td>1</td>\n",
       "      <td>1</td>\n",
       "      <td>1</td>\n",
       "      <td>1</td>\n",
       "      <td>1</td>\n",
       "      <td>1</td>\n",
       "      <td>...</td>\n",
       "      <td>593</td>\n",
       "      <td>127</td>\n",
       "      <td>202.076923</td>\n",
       "      <td>38.692308</td>\n",
       "      <td>36</td>\n",
       "      <td>7</td>\n",
       "      <td>36</td>\n",
       "      <td>7</td>\n",
       "      <td>47</td>\n",
       "      <td>10</td>\n",
       "    </tr>\n",
       "    <tr>\n",
       "      <th>1</th>\n",
       "      <td>000fe60</td>\n",
       "      <td>5</td>\n",
       "      <td>5</td>\n",
       "      <td>5</td>\n",
       "      <td>5</td>\n",
       "      <td>5</td>\n",
       "      <td>5</td>\n",
       "      <td>4</td>\n",
       "      <td>3</td>\n",
       "      <td>3</td>\n",
       "      <td>...</td>\n",
       "      <td>250</td>\n",
       "      <td>49</td>\n",
       "      <td>96.823529</td>\n",
       "      <td>20.470588</td>\n",
       "      <td>27</td>\n",
       "      <td>7</td>\n",
       "      <td>62</td>\n",
       "      <td>13</td>\n",
       "      <td>124</td>\n",
       "      <td>25</td>\n",
       "    </tr>\n",
       "    <tr>\n",
       "      <th>2</th>\n",
       "      <td>001ab80</td>\n",
       "      <td>4</td>\n",
       "      <td>4</td>\n",
       "      <td>4</td>\n",
       "      <td>4</td>\n",
       "      <td>4</td>\n",
       "      <td>4</td>\n",
       "      <td>4</td>\n",
       "      <td>4</td>\n",
       "      <td>4</td>\n",
       "      <td>...</td>\n",
       "      <td>237</td>\n",
       "      <td>47</td>\n",
       "      <td>126.708333</td>\n",
       "      <td>23.875000</td>\n",
       "      <td>58</td>\n",
       "      <td>10</td>\n",
       "      <td>144</td>\n",
       "      <td>27</td>\n",
       "      <td>58</td>\n",
       "      <td>10</td>\n",
       "    </tr>\n",
       "  </tbody>\n",
       "</table>\n",
       "<p>3 rows × 50 columns</p>\n",
       "</div>"
      ],
      "text/plain": [
       "  essay_id  paragraph_50_cnt  paragraph_75_cnt  paragraph_100_cnt  \\\n",
       "0  000d118                 1                 1                  1   \n",
       "1  000fe60                 5                 5                  5   \n",
       "2  001ab80                 4                 4                  4   \n",
       "\n",
       "   paragraph_125_cnt  paragraph_150_cnt  paragraph_175_cnt  paragraph_200_cnt  \\\n",
       "0                  1                  1                  1                  1   \n",
       "1                  5                  5                  5                  4   \n",
       "2                  4                  4                  4                  4   \n",
       "\n",
       "   paragraph_250_cnt  paragraph_300_cnt  ...  sentence_len_max  \\\n",
       "0                  1                  1  ...               593   \n",
       "1                  3                  3  ...               250   \n",
       "2                  4                  4  ...               237   \n",
       "\n",
       "   sentence_word_cnt_max  sentence_len_mean  sentence_word_cnt_mean  \\\n",
       "0                    127         202.076923               38.692308   \n",
       "1                     49          96.823529               20.470588   \n",
       "2                     47         126.708333               23.875000   \n",
       "\n",
       "   sentence_len_min  sentence_word_cnt_min  sentence_len_first  \\\n",
       "0                36                      7                  36   \n",
       "1                27                      7                  62   \n",
       "2                58                     10                 144   \n",
       "\n",
       "   sentence_word_cnt_first  sentence_len_last  sentence_word_cnt_last  \n",
       "0                        7                 47                      10  \n",
       "1                       13                124                      25  \n",
       "2                       27                 58                      10  \n",
       "\n",
       "[3 rows x 50 columns]"
      ]
     },
     "execution_count": 6,
     "metadata": {},
     "output_type": "execute_result"
    }
   ],
   "source": [
    "def Sentence_Preprocess(tmp):\n",
    "    tmp = tmp.with_columns(pl.col('full_text').map_elements(dataPreprocessing).str.split(by=\".\").alias(\"sentence\"))\n",
    "    tmp = tmp.explode('sentence')\n",
    "    tmp = tmp.with_columns(pl.col('sentence').map_elements(lambda x: len(x)).alias(\"sentence_len\"))\n",
    "    tmp = tmp.filter(pl.col('sentence_len')>=15)\n",
    "    tmp = tmp.with_columns(pl.col('sentence').map_elements(lambda x: len(x.split(' '))).alias(\"sentence_word_cnt\"))\n",
    "    return tmp\n",
    "\n",
    "sentence_fea = ['sentence_len','sentence_word_cnt']\n",
    "def Sentence_Eng(train_tmp):\n",
    "    aggs = [\n",
    "        *[pl.col('sentence').filter(pl.col('sentence_len') >= i).count().alias(f\"sentence_{i}_cnt\") for i in [15,50,100,150,200,250,300] ], \n",
    "        *[pl.col(fea).max().alias(f\"{fea}_max\") for fea in sentence_fea],\n",
    "        *[pl.col(fea).mean().alias(f\"{fea}_mean\") for fea in sentence_fea],\n",
    "        *[pl.col(fea).min().alias(f\"{fea}_min\") for fea in sentence_fea],\n",
    "        *[pl.col(fea).first().alias(f\"{fea}_first\") for fea in sentence_fea],\n",
    "        *[pl.col(fea).last().alias(f\"{fea}_last\") for fea in sentence_fea],\n",
    "        ]\n",
    "    df = train_tmp.group_by(['essay_id'], maintain_order=True).agg(aggs).sort(\"essay_id\")\n",
    "    df = df.to_pandas()\n",
    "    return df\n",
    "\n",
    "tmp = Sentence_Preprocess(train)\n",
    "train_feats = train_feats.merge(Sentence_Eng(tmp), on='essay_id', how='left')\n",
    "feature_names = list(filter(lambda x: x not in ['essay_id','score'], train_feats.columns))\n",
    "print('Number of Features: ',len(feature_names))\n",
    "train_feats.head(3)"
   ]
  },
  {
   "cell_type": "markdown",
   "id": "4429f294-39d2-4774-af7b-93823889d94d",
   "metadata": {},
   "source": [
    "## Word feature"
   ]
  },
  {
   "cell_type": "markdown",
   "id": "7b68f0cb-a40b-42e5-8354-0e84ac6e2552",
   "metadata": {},
   "source": [
    "* 单词预处理：首先，通过 Word_Preprocess 函数对原始文本数据中的完整文本进行预处理。这包括将文本按空格分割成单词，并对每个单词进行预处理，例如清理文本。然后，过滤掉长度为0的单词。\n",
    "* 单词特征提取：接下来，通过 Word_Eng 函数对预处理后的单词数据进行特征提取。这一步骤利用各种聚合操作，统计了不同长度区间内单词的数量，以及单词长度的最大值、平均值、标准差和四分位数等特征"
   ]
  },
  {
   "cell_type": "code",
   "execution_count": 7,
   "id": "f88d580b-117e-4914-abda-9248b3b4659b",
   "metadata": {
    "tags": []
   },
   "outputs": [
    {
     "name": "stdout",
     "output_type": "stream",
     "text": [
      "Number of Features:  69\n"
     ]
    },
    {
     "data": {
      "text/html": [
       "<div>\n",
       "<style scoped>\n",
       "    .dataframe tbody tr th:only-of-type {\n",
       "        vertical-align: middle;\n",
       "    }\n",
       "\n",
       "    .dataframe tbody tr th {\n",
       "        vertical-align: top;\n",
       "    }\n",
       "\n",
       "    .dataframe thead th {\n",
       "        text-align: right;\n",
       "    }\n",
       "</style>\n",
       "<table border=\"1\" class=\"dataframe\">\n",
       "  <thead>\n",
       "    <tr style=\"text-align: right;\">\n",
       "      <th></th>\n",
       "      <th>essay_id</th>\n",
       "      <th>paragraph_50_cnt</th>\n",
       "      <th>paragraph_75_cnt</th>\n",
       "      <th>paragraph_100_cnt</th>\n",
       "      <th>paragraph_125_cnt</th>\n",
       "      <th>paragraph_150_cnt</th>\n",
       "      <th>paragraph_175_cnt</th>\n",
       "      <th>paragraph_200_cnt</th>\n",
       "      <th>paragraph_250_cnt</th>\n",
       "      <th>paragraph_300_cnt</th>\n",
       "      <th>...</th>\n",
       "      <th>word_12_cnt</th>\n",
       "      <th>word_13_cnt</th>\n",
       "      <th>word_14_cnt</th>\n",
       "      <th>word_15_cnt</th>\n",
       "      <th>word_len_max</th>\n",
       "      <th>word_len_mean</th>\n",
       "      <th>word_len_std</th>\n",
       "      <th>word_len_q1</th>\n",
       "      <th>word_len_q2</th>\n",
       "      <th>word_len_q3</th>\n",
       "    </tr>\n",
       "  </thead>\n",
       "  <tbody>\n",
       "    <tr>\n",
       "      <th>0</th>\n",
       "      <td>000d118</td>\n",
       "      <td>1</td>\n",
       "      <td>1</td>\n",
       "      <td>1</td>\n",
       "      <td>1</td>\n",
       "      <td>1</td>\n",
       "      <td>1</td>\n",
       "      <td>1</td>\n",
       "      <td>1</td>\n",
       "      <td>1</td>\n",
       "      <td>...</td>\n",
       "      <td>6</td>\n",
       "      <td>6</td>\n",
       "      <td>5</td>\n",
       "      <td>2</td>\n",
       "      <td>25</td>\n",
       "      <td>4.378819</td>\n",
       "      <td>2.538495</td>\n",
       "      <td>3.0</td>\n",
       "      <td>4.0</td>\n",
       "      <td>5.0</td>\n",
       "    </tr>\n",
       "    <tr>\n",
       "      <th>1</th>\n",
       "      <td>000fe60</td>\n",
       "      <td>5</td>\n",
       "      <td>5</td>\n",
       "      <td>5</td>\n",
       "      <td>5</td>\n",
       "      <td>5</td>\n",
       "      <td>5</td>\n",
       "      <td>4</td>\n",
       "      <td>3</td>\n",
       "      <td>3</td>\n",
       "      <td>...</td>\n",
       "      <td>0</td>\n",
       "      <td>0</td>\n",
       "      <td>0</td>\n",
       "      <td>0</td>\n",
       "      <td>11</td>\n",
       "      <td>4.012048</td>\n",
       "      <td>2.060968</td>\n",
       "      <td>2.0</td>\n",
       "      <td>4.0</td>\n",
       "      <td>5.0</td>\n",
       "    </tr>\n",
       "    <tr>\n",
       "      <th>2</th>\n",
       "      <td>001ab80</td>\n",
       "      <td>4</td>\n",
       "      <td>4</td>\n",
       "      <td>4</td>\n",
       "      <td>4</td>\n",
       "      <td>4</td>\n",
       "      <td>4</td>\n",
       "      <td>4</td>\n",
       "      <td>4</td>\n",
       "      <td>4</td>\n",
       "      <td>...</td>\n",
       "      <td>14</td>\n",
       "      <td>10</td>\n",
       "      <td>5</td>\n",
       "      <td>2</td>\n",
       "      <td>15</td>\n",
       "      <td>4.574545</td>\n",
       "      <td>2.604621</td>\n",
       "      <td>3.0</td>\n",
       "      <td>4.0</td>\n",
       "      <td>5.0</td>\n",
       "    </tr>\n",
       "  </tbody>\n",
       "</table>\n",
       "<p>3 rows × 71 columns</p>\n",
       "</div>"
      ],
      "text/plain": [
       "  essay_id  paragraph_50_cnt  paragraph_75_cnt  paragraph_100_cnt  \\\n",
       "0  000d118                 1                 1                  1   \n",
       "1  000fe60                 5                 5                  5   \n",
       "2  001ab80                 4                 4                  4   \n",
       "\n",
       "   paragraph_125_cnt  paragraph_150_cnt  paragraph_175_cnt  paragraph_200_cnt  \\\n",
       "0                  1                  1                  1                  1   \n",
       "1                  5                  5                  5                  4   \n",
       "2                  4                  4                  4                  4   \n",
       "\n",
       "   paragraph_250_cnt  paragraph_300_cnt  ...  word_12_cnt  word_13_cnt  \\\n",
       "0                  1                  1  ...            6            6   \n",
       "1                  3                  3  ...            0            0   \n",
       "2                  4                  4  ...           14           10   \n",
       "\n",
       "   word_14_cnt  word_15_cnt  word_len_max  word_len_mean  word_len_std  \\\n",
       "0            5            2            25       4.378819      2.538495   \n",
       "1            0            0            11       4.012048      2.060968   \n",
       "2            5            2            15       4.574545      2.604621   \n",
       "\n",
       "   word_len_q1  word_len_q2  word_len_q3  \n",
       "0          3.0          4.0          5.0  \n",
       "1          2.0          4.0          5.0  \n",
       "2          3.0          4.0          5.0  \n",
       "\n",
       "[3 rows x 71 columns]"
      ]
     },
     "execution_count": 7,
     "metadata": {},
     "output_type": "execute_result"
    }
   ],
   "source": [
    "def Word_Preprocess(tmp):\n",
    "    tmp = tmp.with_columns(pl.col('full_text').map_elements(dataPreprocessing).str.split(by=\" \").alias(\"word\"))\n",
    "    tmp = tmp.explode('word')\n",
    "    tmp = tmp.with_columns(pl.col('word').map_elements(lambda x: len(x)).alias(\"word_len\"))\n",
    "    tmp = tmp.filter(pl.col('word_len')!=0)\n",
    "    return tmp\n",
    "\n",
    "def Word_Eng(train_tmp):\n",
    "    aggs = [\n",
    "        *[pl.col('word').filter(pl.col('word_len') >= i+1).count().alias(f\"word_{i+1}_cnt\") for i in range(15) ], \n",
    "        pl.col('word_len').max().alias(f\"word_len_max\"),\n",
    "        pl.col('word_len').mean().alias(f\"word_len_mean\"),\n",
    "        pl.col('word_len').std().alias(f\"word_len_std\"),\n",
    "        pl.col('word_len').quantile(0.25).alias(f\"word_len_q1\"),\n",
    "        pl.col('word_len').quantile(0.50).alias(f\"word_len_q2\"),\n",
    "        pl.col('word_len').quantile(0.75).alias(f\"word_len_q3\"),\n",
    "        ]\n",
    "    df = train_tmp.group_by(['essay_id'], maintain_order=True).agg(aggs).sort(\"essay_id\")\n",
    "    df = df.to_pandas()\n",
    "    return df\n",
    "\n",
    "tmp = Word_Preprocess(train)\n",
    "train_feats = train_feats.merge(Word_Eng(tmp), on='essay_id', how='left')\n",
    "feature_names = list(filter(lambda x: x not in ['essay_id','score'], train_feats.columns))\n",
    "print('Number of Features: ',len(feature_names))\n",
    "train_feats.head(3)"
   ]
  },
  {
   "cell_type": "markdown",
   "id": "b295ef1e-9109-417d-8e1a-1d9bc24a6d15",
   "metadata": {},
   "source": [
    "## TFIDF"
   ]
  },
  {
   "cell_type": "code",
   "execution_count": 20,
   "id": "85616752-1cd2-4df0-aacd-d739bfe51178",
   "metadata": {
    "tags": []
   },
   "outputs": [
    {
     "name": "stdout",
     "output_type": "stream",
     "text": [
      "Number of Features:  31309\n"
     ]
    },
    {
     "data": {
      "text/html": [
       "<div>\n",
       "<style scoped>\n",
       "    .dataframe tbody tr th:only-of-type {\n",
       "        vertical-align: middle;\n",
       "    }\n",
       "\n",
       "    .dataframe tbody tr th {\n",
       "        vertical-align: top;\n",
       "    }\n",
       "\n",
       "    .dataframe thead th {\n",
       "        text-align: right;\n",
       "    }\n",
       "</style>\n",
       "<table border=\"1\" class=\"dataframe\">\n",
       "  <thead>\n",
       "    <tr style=\"text-align: right;\">\n",
       "      <th></th>\n",
       "      <th>essay_id</th>\n",
       "      <th>paragraph_50_cnt</th>\n",
       "      <th>paragraph_75_cnt</th>\n",
       "      <th>paragraph_100_cnt</th>\n",
       "      <th>paragraph_125_cnt</th>\n",
       "      <th>paragraph_150_cnt</th>\n",
       "      <th>paragraph_175_cnt</th>\n",
       "      <th>paragraph_200_cnt</th>\n",
       "      <th>paragraph_250_cnt</th>\n",
       "      <th>paragraph_300_cnt</th>\n",
       "      <th>...</th>\n",
       "      <th>tfid_9433_y</th>\n",
       "      <th>tfid_9434_y</th>\n",
       "      <th>tfid_9435_y</th>\n",
       "      <th>tfid_9436_y</th>\n",
       "      <th>tfid_9437_y</th>\n",
       "      <th>tfid_9438_y</th>\n",
       "      <th>tfid_9439_y</th>\n",
       "      <th>tfid_9440_y</th>\n",
       "      <th>tfid_9441_y</th>\n",
       "      <th>tfid_9442_y</th>\n",
       "    </tr>\n",
       "  </thead>\n",
       "  <tbody>\n",
       "    <tr>\n",
       "      <th>0</th>\n",
       "      <td>000d118</td>\n",
       "      <td>1</td>\n",
       "      <td>1</td>\n",
       "      <td>1</td>\n",
       "      <td>1</td>\n",
       "      <td>1</td>\n",
       "      <td>1</td>\n",
       "      <td>1</td>\n",
       "      <td>1</td>\n",
       "      <td>1</td>\n",
       "      <td>...</td>\n",
       "      <td>0.00000</td>\n",
       "      <td>0.000000</td>\n",
       "      <td>0.000000</td>\n",
       "      <td>0.0</td>\n",
       "      <td>0.0</td>\n",
       "      <td>0.0</td>\n",
       "      <td>0.0</td>\n",
       "      <td>0.0</td>\n",
       "      <td>0.0</td>\n",
       "      <td>0.0</td>\n",
       "    </tr>\n",
       "    <tr>\n",
       "      <th>1</th>\n",
       "      <td>000fe60</td>\n",
       "      <td>5</td>\n",
       "      <td>5</td>\n",
       "      <td>5</td>\n",
       "      <td>5</td>\n",
       "      <td>5</td>\n",
       "      <td>5</td>\n",
       "      <td>4</td>\n",
       "      <td>3</td>\n",
       "      <td>3</td>\n",
       "      <td>...</td>\n",
       "      <td>0.02037</td>\n",
       "      <td>0.020396</td>\n",
       "      <td>0.020404</td>\n",
       "      <td>0.0</td>\n",
       "      <td>0.0</td>\n",
       "      <td>0.0</td>\n",
       "      <td>0.0</td>\n",
       "      <td>0.0</td>\n",
       "      <td>0.0</td>\n",
       "      <td>0.0</td>\n",
       "    </tr>\n",
       "    <tr>\n",
       "      <th>2</th>\n",
       "      <td>001ab80</td>\n",
       "      <td>4</td>\n",
       "      <td>4</td>\n",
       "      <td>4</td>\n",
       "      <td>4</td>\n",
       "      <td>4</td>\n",
       "      <td>4</td>\n",
       "      <td>4</td>\n",
       "      <td>4</td>\n",
       "      <td>4</td>\n",
       "      <td>...</td>\n",
       "      <td>0.00000</td>\n",
       "      <td>0.000000</td>\n",
       "      <td>0.000000</td>\n",
       "      <td>0.0</td>\n",
       "      <td>0.0</td>\n",
       "      <td>0.0</td>\n",
       "      <td>0.0</td>\n",
       "      <td>0.0</td>\n",
       "      <td>0.0</td>\n",
       "      <td>0.0</td>\n",
       "    </tr>\n",
       "  </tbody>\n",
       "</table>\n",
       "<p>3 rows × 31311 columns</p>\n",
       "</div>"
      ],
      "text/plain": [
       "  essay_id  paragraph_50_cnt  paragraph_75_cnt  paragraph_100_cnt  \\\n",
       "0  000d118                 1                 1                  1   \n",
       "1  000fe60                 5                 5                  5   \n",
       "2  001ab80                 4                 4                  4   \n",
       "\n",
       "   paragraph_125_cnt  paragraph_150_cnt  paragraph_175_cnt  paragraph_200_cnt  \\\n",
       "0                  1                  1                  1                  1   \n",
       "1                  5                  5                  5                  4   \n",
       "2                  4                  4                  4                  4   \n",
       "\n",
       "   paragraph_250_cnt  paragraph_300_cnt  ...  tfid_9433_y  tfid_9434_y  \\\n",
       "0                  1                  1  ...      0.00000     0.000000   \n",
       "1                  3                  3  ...      0.02037     0.020396   \n",
       "2                  4                  4  ...      0.00000     0.000000   \n",
       "\n",
       "   tfid_9435_y  tfid_9436_y  tfid_9437_y  tfid_9438_y  tfid_9439_y  \\\n",
       "0     0.000000          0.0          0.0          0.0          0.0   \n",
       "1     0.020404          0.0          0.0          0.0          0.0   \n",
       "2     0.000000          0.0          0.0          0.0          0.0   \n",
       "\n",
       "   tfid_9440_y  tfid_9441_y  tfid_9442_y  \n",
       "0          0.0          0.0          0.0  \n",
       "1          0.0          0.0          0.0  \n",
       "2          0.0          0.0          0.0  \n",
       "\n",
       "[3 rows x 31311 columns]"
      ]
     },
     "execution_count": 20,
     "metadata": {},
     "output_type": "execute_result"
    }
   ],
   "source": [
    "vectorizer = TfidfVectorizer(\n",
    "            tokenizer=lambda x: x,\n",
    "            preprocessor=lambda x: x,\n",
    "            token_pattern=None,\n",
    "            strip_accents='unicode',\n",
    "            analyzer = 'char_wb',\n",
    "            ngram_range=(3,6),\n",
    "            min_df=0.05,\n",
    "            max_df=0.95,\n",
    "            sublinear_tf=True,\n",
    ")\n",
    "\n",
    "train_tfid = vectorizer.fit_transform([i for i in train['full_text']])\n",
    "dense_matrix = train_tfid.toarray()\n",
    "df = pd.DataFrame(dense_matrix)\n",
    "tfid_columns = [ f'tfid_{i}' for i in range(len(df.columns))]\n",
    "df.columns = tfid_columns\n",
    "df['essay_id'] = train_feats['essay_id']\n",
    "train_feats = train_feats.merge(df, on='essay_id', how='left')\n",
    "feature_names = list(filter(lambda x: x not in ['essay_id','score'], train_feats.columns))\n",
    "print('Number of Features: ',len(feature_names))\n",
    "train_feats.head(3)"
   ]
  },
  {
   "cell_type": "markdown",
   "id": "3316dc6d-32c1-43df-b914-7b8d99eb58a4",
   "metadata": {},
   "source": [
    "## CountVetor"
   ]
  },
  {
   "cell_type": "code",
   "execution_count": 9,
   "id": "aa2545bb-e9d4-4dbb-8939-aaba6ff458cb",
   "metadata": {
    "tags": []
   },
   "outputs": [],
   "source": [
    "vectorizer_cnt = CountVectorizer(\n",
    "            tokenizer=lambda x: x,\n",
    "            preprocessor=lambda x: x,\n",
    "            token_pattern=None,\n",
    "            strip_accents='unicode',\n",
    "            analyzer = 'word',\n",
    "            ngram_range=(2,3),\n",
    "            min_df=0.10,\n",
    "            max_df=0.85,\n",
    ")\n",
    "train_tfid = vectorizer_cnt.fit_transform([i for i in train['full_text']])\n",
    "dense_matrix = train_tfid.toarray()\n",
    "df = pd.DataFrame(dense_matrix)\n",
    "tfid_columns = [ f'tfid_cnt_{i}' for i in range(len(df.columns))]\n",
    "df.columns = tfid_columns\n",
    "df['essay_id'] = train_feats['essay_id']\n",
    "train_feats = train_feats.merge(df, on='essay_id', how='left')"
   ]
  },
  {
   "cell_type": "markdown",
   "id": "01d498e5-a2f3-4689-b6f5-cefd9fea4bc0",
   "metadata": {},
   "source": [
    "# Train"
   ]
  },
  {
   "cell_type": "markdown",
   "id": "bac4970f-378a-4f9a-992e-e9d4546359cc",
   "metadata": {},
   "source": [
    "## 先不用deBERTa的\n",
    "* 然后就是使用了qwk作为loss function"
   ]
  },
  {
   "cell_type": "code",
   "execution_count": 10,
   "id": "94b90cc0-253a-4a76-8e7e-ff2c1cc5fea8",
   "metadata": {
    "tags": []
   },
   "outputs": [
    {
     "name": "stdout",
     "output_type": "stream",
     "text": [
      "Features Number:  21866\n"
     ]
    },
    {
     "data": {
      "text/plain": [
       "(17307, 21868)"
      ]
     },
     "execution_count": 10,
     "metadata": {},
     "output_type": "execute_result"
    }
   ],
   "source": [
    "import joblib\n",
    "\n",
    "# deberta_oof = joblib.load('/kaggle/input/aes-deberta-large/oof.pkl')\n",
    "# print(deberta_oof.shape, train_feats.shape)\n",
    "\n",
    "# for i in range(6):\n",
    "#     train_feats[f'deberta_oof_{i}'] = deberta_oof[:, i]\n",
    "\n",
    "feature_names = list(filter(lambda x: x not in ['essay_id','score'], train_feats.columns))\n",
    "print('Features Number: ',len(feature_names))    \n",
    "\n",
    "train_feats.shape"
   ]
  },
  {
   "cell_type": "code",
   "execution_count": 11,
   "id": "e9d1116b-3cff-47fa-8f17-f5957ec342f5",
   "metadata": {
    "tags": []
   },
   "outputs": [],
   "source": [
    "def quadratic_weighted_kappa(y_true, y_pred):\n",
    "    y_true = y_true + a\n",
    "    y_pred = (y_pred + a).clip(1, 6).round()\n",
    "    qwk = cohen_kappa_score(y_true, y_pred, weights=\"quadratic\")\n",
    "    return 'QWK', qwk, True\n",
    "def qwk_obj(y_true, y_pred):\n",
    "    labels = y_true + a\n",
    "    preds = y_pred + a\n",
    "    preds = preds.clip(1, 6)\n",
    "    f = 1/2*np.sum((preds-labels)**2)\n",
    "    g = 1/2*np.sum((preds-a)**2+b)\n",
    "    df = preds - labels\n",
    "    dg = preds - a\n",
    "    grad = (df/g - f*dg/g**2)*len(labels)\n",
    "    hess = np.ones(len(labels))\n",
    "    return grad, hess\n",
    "a = 2.948\n",
    "b = 1.092\n",
    "# a, b是他们给的。看下面， y-a，可能意味着这个a是个bias。"
   ]
  },
  {
   "cell_type": "code",
   "execution_count": 12,
   "id": "8fd4c83a-3d76-4753-bc3e-8d5654726a76",
   "metadata": {
    "tags": []
   },
   "outputs": [],
   "source": [
    "X = train_feats[feature_names].astype(np.float32).values\n",
    "\n",
    "y_split = train_feats['score'].astype(int).values\n",
    "y = train_feats['score'].astype(np.float32).values-a\n",
    "oof = train_feats['score'].astype(int).values"
   ]
  },
  {
   "cell_type": "code",
   "execution_count": 17,
   "id": "47d0e3ad-1657-4a7f-94b4-0eeb3c78e44d",
   "metadata": {
    "tags": []
   },
   "outputs": [
    {
     "name": "stdout",
     "output_type": "stream",
     "text": [
      "(17307, 21866) (17307,) (17307,) (17307,)\n"
     ]
    }
   ],
   "source": [
    "print(X.shape, y_split.shape, y.shape, oof.shape)"
   ]
  },
  {
   "cell_type": "code",
   "execution_count": 19,
   "id": "5e98041c-bd65-4a71-8210-7e314f267742",
   "metadata": {
    "tags": []
   },
   "outputs": [
    {
     "data": {
      "text/plain": [
       "17307"
      ]
     },
     "execution_count": 19,
     "metadata": {},
     "output_type": "execute_result"
    }
   ],
   "source": [
    "(oof == y_split).sum()"
   ]
  },
  {
   "cell_type": "markdown",
   "id": "ef12e7b4-b50d-4e2d-8694-9ca6574a7439",
   "metadata": {},
   "source": [
    "## 单fold"
   ]
  },
  {
   "cell_type": "code",
   "execution_count": 21,
   "id": "537b3996-a773-47dc-ae41-22f045263f2c",
   "metadata": {
    "tags": []
   },
   "outputs": [
    {
     "name": "stdout",
     "output_type": "stream",
     "text": [
      "fold 1\n",
      "[LightGBM] [Info] Using self-defined objective function\n",
      "Training until validation scores don't improve for 75 rounds\n",
      "[25]\ttrain's QWK: 0.745594\tvalid's QWK: 0.72779\n",
      "[50]\ttrain's QWK: 0.785857\tvalid's QWK: 0.76384\n",
      "[75]\ttrain's QWK: 0.804669\tvalid's QWK: 0.782161\n",
      "[100]\ttrain's QWK: 0.81668\tvalid's QWK: 0.787434\n",
      "[125]\ttrain's QWK: 0.825794\tvalid's QWK: 0.787296\n",
      "[150]\ttrain's QWK: 0.833156\tvalid's QWK: 0.788691\n",
      "[175]\ttrain's QWK: 0.838578\tvalid's QWK: 0.791373\n",
      "[200]\ttrain's QWK: 0.844475\tvalid's QWK: 0.793355\n",
      "[225]\ttrain's QWK: 0.849757\tvalid's QWK: 0.795619\n",
      "[250]\ttrain's QWK: 0.854895\tvalid's QWK: 0.792243\n",
      "[275]\ttrain's QWK: 0.859542\tvalid's QWK: 0.796337\n",
      "[300]\ttrain's QWK: 0.863475\tvalid's QWK: 0.796921\n",
      "[325]\ttrain's QWK: 0.868236\tvalid's QWK: 0.79725\n",
      "[350]\ttrain's QWK: 0.872433\tvalid's QWK: 0.798261\n",
      "Early stopping, best iteration is:\n",
      "[294]\ttrain's QWK: 0.863072\tvalid's QWK: 0.798451\n",
      "Evaluated only: QWK\n"
     ]
    },
    {
     "data": {
      "image/png": "[encoded data removed]",
      "text/plain": [
       "<Figure size 640x480 with 2 Axes>"
      ]
     },
     "metadata": {},
     "output_type": "display_data"
    },
    {
     "name": "stdout",
     "output_type": "stream",
     "text": [
      "F1 score across fold: 0.6332148977987292\n",
      "Cohen kappa score across fold: 0.7984508051889713\n",
      "Mean F1 score across 15 folds: 0.6332148977987292\n",
      "Mean Cohen kappa score across 15 folds: 0.7984508051889713\n"
     ]
    }
   ],
   "source": [
    "n_splits = 15\n",
    "\n",
    "skf = StratifiedKFold(n_splits=n_splits, shuffle=True, random_state=42)\n",
    "\n",
    "f1_scores = []\n",
    "kappa_scores = []\n",
    "models = []\n",
    "predictions = []\n",
    "callbacks = [log_evaluation(period=25), early_stopping(stopping_rounds=75,first_metric_only=True)]\n",
    "\n",
    "i=1\n",
    "for train_index, test_index in skf.split(X, y_split):\n",
    "   \n",
    "    print('fold',i)\n",
    "    X_train_fold, X_test_fold = X[train_index], X[test_index]\n",
    "    \n",
    "   \n",
    "    y_train_fold, y_test_fold, y_test_fold_int = y[train_index], y[test_index], y_split[test_index]\n",
    "    \n",
    "    model = lgb.LGBMRegressor(\n",
    "                objective = qwk_obj,\n",
    "                metrics = 'None',\n",
    "                learning_rate = 0.1,\n",
    "                max_depth = 5,\n",
    "                num_leaves = 10,\n",
    "                colsample_bytree=0.5,\n",
    "                reg_alpha = 0.1,\n",
    "                reg_lambda = 0.8,\n",
    "                n_estimators=1024,\n",
    "                random_state=42,\n",
    "                extra_trees=True,\n",
    "                class_weight='balanced',\n",
    "                verbosity = - 1)\n",
    "\n",
    "    predictor = model.fit(X_train_fold,\n",
    "                                  y_train_fold,\n",
    "                                  eval_names=['train', 'valid'],\n",
    "                                  eval_set=[(X_train_fold, y_train_fold), (X_test_fold, y_test_fold)],\n",
    "                                  eval_metric=quadratic_weighted_kappa,\n",
    "                                  callbacks=callbacks,)\n",
    "    models.append(predictor)\n",
    "    predictions_fold = predictor.predict(X_test_fold)\n",
    "    predictions_fold = predictions_fold + a\n",
    "    oof[test_index]=predictions_fold\n",
    "    predictions_fold = predictions_fold.clip(1, 6).round()\n",
    "    predictions.append(predictions_fold)\n",
    "    f1_fold = f1_score(y_test_fold_int, predictions_fold, average='weighted')\n",
    "    f1_scores.append(f1_fold)\n",
    "    \n",
    "    \n",
    "    kappa_fold = cohen_kappa_score(y_test_fold_int, predictions_fold, weights='quadratic')\n",
    "    kappa_scores.append(kappa_fold)\n",
    "    \n",
    "    cm = confusion_matrix(y_test_fold_int, predictions_fold, labels=[x for x in range(1,7)])\n",
    "\n",
    "    disp = ConfusionMatrixDisplay(confusion_matrix=cm,\n",
    "                                  display_labels=[x for x in range(1,7)])\n",
    "    disp.plot()\n",
    "    plt.show()\n",
    "    print(f'F1 score across fold: {f1_fold}')\n",
    "    print(f'Cohen kappa score across fold: {kappa_fold}')\n",
    "    i+=1\n",
    "    if i==2:\n",
    "        break\n",
    "\n",
    "mean_f1_score = np.mean(f1_scores)\n",
    "mean_kappa_score = np.mean(kappa_scores)\n",
    "\n",
    "print(f'Mean F1 score across {n_splits} folds: {mean_f1_score}')\n",
    "print(f'Mean Cohen kappa score across {n_splits} folds: {mean_kappa_score}')\n",
    "\n"
   ]
  },
  {
   "cell_type": "code",
   "execution_count": 22,
   "id": "c31df8a1-4952-4877-80d0-5309ca27181b",
   "metadata": {
    "tags": []
   },
   "outputs": [],
   "source": [
    "i=0\n",
    "with open(f\"/root/autodl-tmp/socre/output/fold{i}——tfdif_char_wb.txt\", \"w\") as f:\n",
    "    f.write(f'F1 score across fold: {f1_fold}\\n')\n",
    "    f.write(f'Cohen kappa score across fold: {kappa_fold}\\n')\n",
    "    f.write(f'Mean F1 score across {n_splits} folds: {mean_f1_score}\\n')\n",
    "    f.write(f'Mean Cohen kappa score across {n_splits} folds: {mean_kappa_score}\\n')"
   ]
  },
  {
   "cell_type": "code",
   "execution_count": 15,
   "id": "9d5a147f-44ec-4efe-add8-71492d1aca3d",
   "metadata": {
    "tags": []
   },
   "outputs": [
    {
     "name": "stdout",
     "output_type": "stream",
     "text": [
      "the presion of label 1: 0.5927835051546392\n",
      "the presion of label 2: 0.6344186046511628\n",
      "the presion of label 3: 0.6600517687661778\n",
      "the presion of label 4: 0.6317135549872123\n",
      "the presion of label 5: 0.5127118644067796\n",
      "the presion of label 6: 0.5625\n",
      "\n",
      "\n",
      "\n",
      "the reacall of label 1: 0.4581673306772908\n",
      "the reacall of label 2: 0.722457627118644\n",
      "the reacall of label 3: 0.6090764331210191\n",
      "the reacall of label 4: 0.628498727735369\n",
      "the reacall of label 5: 0.6237113402061856\n",
      "the reacall of label 6: 0.2903225806451613\n"
     ]
    }
   ],
   "source": [
    "for i in range(6):\n",
    "    print(f\"the presion of label {i+1}:\", cm[i][i]/cm.sum(axis = 0)[i])\n",
    "print(\"\\n\\n\")\n",
    "for i in range(6):\n",
    "    print(f\"the reacall of label {i+1}:\", cm[i][i]/cm.sum(axis = 1)[i])    \n",
    "    "
   ]
  },
  {
   "cell_type": "markdown",
   "id": "99b1b4cf-822e-4208-9d64-8bdc17ebf0b2",
   "metadata": {},
   "source": [
    "* presion : 5的显著降低\n",
    "* recall： 1，6的很低\n",
    "* 可以看到，456之间的特征差距有点小，可以着重提取\n",
    "\n",
    "假如说，我们把这些误分类的情况单独提出来进行预测？会不会也有一定效果？"
   ]
  },
  {
   "cell_type": "markdown",
   "id": "cf834a94-167a-48d3-a936-95b09cf529ad",
   "metadata": {},
   "source": [
    "## 看看train的"
   ]
  },
  {
   "cell_type": "code",
   "execution_count": 32,
   "id": "b50ddbdb-4268-4702-99c8-636a232120e8",
   "metadata": {
    "tags": []
   },
   "outputs": [
    {
     "data": {
      "text/plain": [
       "((13845, 21866), (3462, 21866), (13845,), (3462,), (3462,))"
      ]
     },
     "execution_count": 32,
     "metadata": {},
     "output_type": "execute_result"
    }
   ],
   "source": [
    "X_train_fold.shape, X_test_fold.shape, y_train_fold.shape, y_test_fold.shape, y_test_fold_int.shape"
   ]
  },
  {
   "cell_type": "code",
   "execution_count": 43,
   "id": "6e1cd83a-453f-4335-a24c-8372f1155ddf",
   "metadata": {
    "tags": []
   },
   "outputs": [],
   "source": [
    "y_train_fold_int = y_split[train_index]"
   ]
  },
  {
   "cell_type": "code",
   "execution_count": 45,
   "id": "17e9c144-7246-4cf6-8e0d-bd02121a0e99",
   "metadata": {
    "tags": []
   },
   "outputs": [
    {
     "data": {
      "image/png": "[encoded data removed]",
      "text/plain": [
       "<Figure size 640x480 with 2 Axes>"
      ]
     },
     "metadata": {},
     "output_type": "display_data"
    },
    {
     "name": "stdout",
     "output_type": "stream",
     "text": [
      "F1 score across fold: 0.7181445369992796\n",
      "Cohen kappa score across fold: 0.8662963683127937\n",
      "Mean F1 score across 5 folds: 0.6885267747873284\n",
      "Mean Cohen kappa score across 5 folds: 0.8469257763137737\n"
     ]
    }
   ],
   "source": [
    "predictions_fold = predictor.predict(X_train_fold)\n",
    "predictions_fold = predictions_fold + a\n",
    "oof[train_index]=predictions_fold\n",
    "predictions_fold = predictions_fold.clip(1, 6).round()\n",
    "predictions.append(predictions_fold)\n",
    "f1_fold = f1_score(y_train_fold_int, predictions_fold, average='weighted')\n",
    "f1_scores.append(f1_fold)\n",
    "kappa_fold = cohen_kappa_score(y_train_fold_int, predictions_fold, weights='quadratic')\n",
    "kappa_scores.append(kappa_fold)\n",
    "\n",
    "cm = confusion_matrix(y_train_fold_int, predictions_fold, labels=[x for x in range(1,7)])\n",
    "\n",
    "disp = ConfusionMatrixDisplay(confusion_matrix=cm,\n",
    "                              display_labels=[x for x in range(1,7)])\n",
    "disp.plot()\n",
    "plt.show()\n",
    "print(f'F1 score across fold: {f1_fold}')\n",
    "print(f'Cohen kappa score across fold: {kappa_fold}')\n",
    " \n",
    "mean_f1_score = np.mean(f1_scores)\n",
    "mean_kappa_score = np.mean(kappa_scores)\n",
    "\n",
    "print(f'Mean F1 score across {n_splits} folds: {mean_f1_score}')\n",
    "print(f'Mean Cohen kappa score across {n_splits} folds: {mean_kappa_score}')"
   ]
  },
  {
   "cell_type": "code",
   "execution_count": null,
   "id": "98f7ac7c-6b4a-495e-a666-819f50ade7e2",
   "metadata": {},
   "outputs": [],
   "source": []
  },
  {
   "cell_type": "markdown",
   "id": "5bf4c223-9919-444c-affc-cf55a7bac5b3",
   "metadata": {
    "jp-MarkdownHeadingCollapsed": true,
    "tags": []
   },
   "source": [
    "## K折的"
   ]
  },
  {
   "cell_type": "code",
   "execution_count": null,
   "id": "4197cc43-6ade-49b6-a00d-11281728024e",
   "metadata": {},
   "outputs": [],
   "source": [
    "# n_splits = 15\n",
    "\n",
    "# skf = StratifiedKFold(n_splits=n_splits, shuffle=True, random_state=0)\n",
    "\n",
    "# f1_scores = []\n",
    "# kappa_scores = []\n",
    "# models = []\n",
    "# predictions = []\n",
    "# callbacks = [log_evaluation(period=25), early_stopping(stopping_rounds=75,first_metric_only=True)]\n",
    "\n",
    "# i=1\n",
    "# for train_index, test_index in skf.split(X, y_split):\n",
    "   \n",
    "#     print('fold',i)\n",
    "#     X_train_fold, X_test_fold = X[train_index], X[test_index]\n",
    "    \n",
    "   \n",
    "#     y_train_fold, y_test_fold, y_test_fold_int = y[train_index], y[test_index], y_split[test_index]\n",
    "    \n",
    "#     model = lgb.LGBMRegressor(\n",
    "#                 objective = qwk_obj,\n",
    "#                 metrics = 'None',\n",
    "#                 learning_rate = 0.1,\n",
    "#                 max_depth = 5,\n",
    "#                 num_leaves = 10,\n",
    "#                 colsample_bytree=0.5,\n",
    "#                 reg_alpha = 0.1,\n",
    "#                 reg_lambda = 0.8,\n",
    "#                 n_estimators=1024,\n",
    "#                 random_state=42,\n",
    "#                 extra_trees=True,\n",
    "#                 class_weight='balanced',\n",
    "#                 verbosity = - 1)\n",
    "\n",
    "#     predictor = model.fit(X_train_fold,\n",
    "#                                   y_train_fold,\n",
    "#                                   eval_names=['train', 'valid'],\n",
    "#                                   eval_set=[(X_train_fold, y_train_fold), (X_test_fold, y_test_fold)],\n",
    "#                                   eval_metric=quadratic_weighted_kappa,\n",
    "#                                   callbacks=callbacks,)\n",
    "#     models.append(predictor)\n",
    "#     predictions_fold = predictor.predict(X_test_fold)\n",
    "#     predictions_fold = predictions_fold + a\n",
    "#     oof[test_index]=predictions_fold\n",
    "#     predictions_fold = predictions_fold.clip(1, 6).round()\n",
    "#     predictions.append(predictions_fold)\n",
    "#     f1_fold = f1_score(y_test_fold_int, predictions_fold, average='weighted')\n",
    "#     f1_scores.append(f1_fold)\n",
    "    \n",
    "    \n",
    "#     kappa_fold = cohen_kappa_score(y_test_fold_int, predictions_fold, weights='quadratic')\n",
    "#     kappa_scores.append(kappa_fold)\n",
    "    \n",
    "#     cm = confusion_matrix(y_test_fold_int, predictions_fold, labels=[x for x in range(1,7)])\n",
    "\n",
    "#     disp = ConfusionMatrixDisplay(confusion_matrix=cm,\n",
    "#                                   display_labels=[x for x in range(1,7)])\n",
    "#     disp.plot()\n",
    "#     plt.show()\n",
    "#     print(f'F1 score across fold: {f1_fold}')\n",
    "#     print(f'Cohen kappa score across fold: {kappa_fold}')\n",
    "#     i+=1\n",
    "\n",
    "# mean_f1_score = np.mean(f1_scores)\n",
    "# mean_kappa_score = np.mean(kappa_scores)\n",
    "\n",
    "# print(f'Mean F1 score across {n_splits} folds: {mean_f1_score}')\n",
    "# print(f'Mean Cohen kappa score across {n_splits} folds: {mean_kappa_score}')"
   ]
  }
 ],
 "metadata": {
  "kernelspec": {
   "display_name": "Python 3 (ipykernel)",
   "language": "python",
   "name": "python3"
  },
  "language_info": {
   "codemirror_mode": {
    "name": "ipython",
    "version": 3
   },
   "file_extension": ".py",
   "mimetype": "text/x-python",
   "name": "python",
   "nbconvert_exporter": "python",
   "pygments_lexer": "ipython3",
   "version": "3.8.10"
  }
 },
 "nbformat": 4,
 "nbformat_minor": 5
}
