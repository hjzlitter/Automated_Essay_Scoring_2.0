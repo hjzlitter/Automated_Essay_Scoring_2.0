{
 "cells": [
  {
   "cell_type": "markdown",
   "id": "e56ce0a2",
   "metadata": {
    "papermill": {
     "duration": 0.009908,
     "end_time": "2024-04-21T13:41:44.516424",
     "exception": false,
     "start_time": "2024-04-21T13:41:44.506516",
     "status": "completed"
    },
    "tags": []
   },
   "source": [
    "## ℹ️ Info\n",
    "\n",
    "* **forked original great work kernels**\n",
    "    * https://www.kaggle.com/code/siddhvr/aes-2-0-deberta-lgbm-baseline\n",
    "    * https://www.kaggle.com/code/olyatsimboy/5-fold-deberta-lgbm\n",
    "    * https://www.kaggle.com/code/aikhmelnytskyy/quick-start-lgbm\n",
    "    \n",
    "\n",
    "* **2024/04/15 My Additional**\n",
    "    * add CountVectorizer FEs.\n",
    "    ```\n",
    "    vectorizer_cnt = CountVectorizer(\n",
    "            tokenizer=lambda x: x,\n",
    "            preprocessor=lambda x: x,\n",
    "            token_pattern=None,\n",
    "            strip_accents='unicode',\n",
    "            analyzer = 'word',\n",
    "            ngram_range=(2,3),\n",
    "            min_df=0.10,\n",
    "            max_df=0.85,\n",
    "    ```\n",
    "\n",
    "* **2024/04/21 My Additional**\n",
    "    * Add MetaFEs. Train deberta-v3-large local(5Fold SKF)\n",
    "    * https://www.kaggle.com/datasets/hideyukizushi/aes2-400-20240419134941\n",
    "    ```\n",
    "    # CV Result\n",
    "    [Fold0] 0.8358919189593519\n",
    "    [Fold1] 0.8363556728124214\n",
    "    [Fold2] 0.8180511976390897\n",
    "    [Fold3] 0.8332431669531231\n",
    "    [Fold4] 0.8331952936995911\n",
    "    ```\n",
    "\n",
    "---"
   ]
  },
  {
   "cell_type": "code",
   "execution_count": 1,
   "id": "ddffb9ae",
   "metadata": {
    "execution": {
     "iopub.execute_input": "2024-04-21T13:41:44.536372Z",
     "iopub.status.busy": "2024-04-21T13:41:44.536065Z",
     "iopub.status.idle": "2024-04-21T13:42:27.241184Z",
     "shell.execute_reply": "2024-04-21T13:42:27.240252Z"
    },
    "papermill": {
     "duration": 42.726722,
     "end_time": "2024-04-21T13:42:27.252586",
     "exception": false,
     "start_time": "2024-04-21T13:41:44.525864",
     "status": "completed"
    },
    "tags": []
   },
   "outputs": [
    {
     "name": "stderr",
     "output_type": "stream",
     "text": [
      "2024-04-21 13:41:55.439737: E external/local_xla/xla/stream_executor/cuda/cuda_dnn.cc:9261] Unable to register cuDNN factory: Attempting to register factory for plugin cuDNN when one has already been registered\n",
      "2024-04-21 13:41:55.439837: E external/local_xla/xla/stream_executor/cuda/cuda_fft.cc:607] Unable to register cuFFT factory: Attempting to register factory for plugin cuFFT when one has already been registered\n",
      "2024-04-21 13:41:55.569935: E external/local_xla/xla/stream_executor/cuda/cuda_blas.cc:1515] Unable to register cuBLAS factory: Attempting to register factory for plugin cuBLAS when one has already been registered\n"
     ]
    },
    {
     "name": "stdout",
     "output_type": "stream",
     "text": [
      "[nltk_data] Error loading wordnet: <urlopen error [Errno -3] Temporary\n",
      "[nltk_data]     failure in name resolution>\n"
     ]
    },
    {
     "data": {
      "text/plain": [
       "False"
      ]
     },
     "execution_count": 1,
     "metadata": {},
     "output_type": "execute_result"
    }
   ],
   "source": [
    "import gc\n",
    "import torch\n",
    "import copy\n",
    "from datasets import Dataset\n",
    "from transformers import AutoTokenizer, AutoModelForSequenceClassification, Trainer, TrainingArguments,DataCollatorWithPadding\n",
    "import nltk\n",
    "from datasets import Dataset\n",
    "from glob import glob\n",
    "import numpy as np \n",
    "import pandas as pd\n",
    "import polars as pl\n",
    "import re\n",
    "import random\n",
    "import matplotlib.pyplot as plt\n",
    "import warnings\n",
    "warnings.filterwarnings('ignore')\n",
    "from scipy.special import softmax\n",
    "from sklearn.model_selection import train_test_split, GridSearchCV, RandomizedSearchCV\n",
    "from sklearn.ensemble import RandomForestClassifier, ExtraTreesClassifier, AdaBoostClassifier,GradientBoostingClassifier,BaggingClassifier\n",
    "from sklearn.linear_model import LogisticRegression, Perceptron\n",
    "from sklearn.svm import LinearSVC\n",
    "from sklearn.naive_bayes import GaussianNB,MultinomialNB,ComplementNB\n",
    "from sklearn.neural_network import MLPClassifier\n",
    "from sklearn import tree\n",
    "from sklearn.neighbors import KNeighborsClassifier\n",
    "from sklearn.feature_extraction.text import CountVectorizer,TfidfVectorizer\n",
    "from sklearn.pipeline import Pipeline\n",
    "from imblearn.ensemble import BalancedBaggingClassifier\n",
    "from sklearn.feature_selection import SelectFromModel\n",
    "from sklearn.datasets import make_classification\n",
    "from sklearn.metrics import confusion_matrix, ConfusionMatrixDisplay\n",
    "from sklearn.model_selection import train_test_split, StratifiedKFold\n",
    "from sklearn.metrics import confusion_matrix, ConfusionMatrixDisplay, f1_score\n",
    "from sklearn.metrics import cohen_kappa_score\n",
    "from lightgbm import log_evaluation, early_stopping\n",
    "import lightgbm as lgb\n",
    "nltk.download('wordnet')"
   ]
  },
  {
   "cell_type": "code",
   "execution_count": 2,
   "id": "2d22f174",
   "metadata": {
    "execution": {
     "iopub.execute_input": "2024-04-21T13:42:27.273692Z",
     "iopub.status.busy": "2024-04-21T13:42:27.273096Z",
     "iopub.status.idle": "2024-04-21T13:42:27.277513Z",
     "shell.execute_reply": "2024-04-21T13:42:27.276648Z"
    },
    "papermill": {
     "duration": 0.016823,
     "end_time": "2024-04-21T13:42:27.279439",
     "exception": false,
     "start_time": "2024-04-21T13:42:27.262616",
     "status": "completed"
    },
    "tags": []
   },
   "outputs": [],
   "source": [
    "MAX_LENGTH = 1024\n",
    "TEST_DATA_PATH = \"/kaggle/input/learning-agency-lab-automated-essay-scoring-2/test.csv\"\n",
    "MODEL_PATH = '/kaggle/input/aes2-400-20240419134941/*/*'\n",
    "EVAL_BATCH_SIZE = 1"
   ]
  },
  {
   "cell_type": "code",
   "execution_count": 3,
   "id": "9623c727",
   "metadata": {
    "execution": {
     "iopub.execute_input": "2024-04-21T13:42:27.299827Z",
     "iopub.status.busy": "2024-04-21T13:42:27.299560Z",
     "iopub.status.idle": "2024-04-21T13:43:59.133416Z",
     "shell.execute_reply": "2024-04-21T13:43:59.132600Z"
    },
    "papermill": {
     "duration": 91.84663,
     "end_time": "2024-04-21T13:43:59.135662",
     "exception": false,
     "start_time": "2024-04-21T13:42:27.289032",
     "status": "completed"
    },
    "tags": []
   },
   "outputs": [
    {
     "data": {
      "application/vnd.jupyter.widget-view+json": {
       "model_id": "cdd52ab45d5a47b0bcb884be9a2ec0e1",
       "version_major": 2,
       "version_minor": 0
      },
      "text/plain": [
       "  0%|          | 0/3 [00:00<?, ?ex/s]"
      ]
     },
     "metadata": {},
     "output_type": "display_data"
    },
    {
     "data": {
      "text/html": [],
      "text/plain": [
       "<IPython.core.display.HTML object>"
      ]
     },
     "metadata": {},
     "output_type": "display_data"
    },
    {
     "data": {
      "text/html": [],
      "text/plain": [
       "<IPython.core.display.HTML object>"
      ]
     },
     "metadata": {},
     "output_type": "display_data"
    },
    {
     "data": {
      "text/html": [],
      "text/plain": [
       "<IPython.core.display.HTML object>"
      ]
     },
     "metadata": {},
     "output_type": "display_data"
    },
    {
     "data": {
      "text/html": [],
      "text/plain": [
       "<IPython.core.display.HTML object>"
      ]
     },
     "metadata": {},
     "output_type": "display_data"
    },
    {
     "data": {
      "text/html": [],
      "text/plain": [
       "<IPython.core.display.HTML object>"
      ]
     },
     "metadata": {},
     "output_type": "display_data"
    }
   ],
   "source": [
    "models = glob(MODEL_PATH)\n",
    "tokenizer = AutoTokenizer.from_pretrained(models[0])\n",
    "\n",
    "def tokenize(sample):\n",
    "    return tokenizer(sample['full_text'], max_length=MAX_LENGTH, truncation=True)\n",
    "\n",
    "df_test = pd.read_csv(TEST_DATA_PATH)\n",
    "ds = Dataset.from_pandas(df_test).map(tokenize).remove_columns(['essay_id', 'full_text'])\n",
    "\n",
    "args = TrainingArguments(\n",
    "    \".\", \n",
    "    per_device_eval_batch_size=EVAL_BATCH_SIZE, \n",
    "    report_to=\"none\"\n",
    ")\n",
    "\n",
    "predictions = []\n",
    "for model in models:\n",
    "    model = AutoModelForSequenceClassification.from_pretrained(model)\n",
    "    trainer = Trainer(\n",
    "        model=model, \n",
    "        args=args, \n",
    "        data_collator=DataCollatorWithPadding(tokenizer), \n",
    "        tokenizer=tokenizer\n",
    "    )    \n",
    "    preds = trainer.predict(ds).predictions\n",
    "    predictions.append(softmax(preds, axis=-1))\n",
    "    del model, trainer\n",
    "    torch.cuda.empty_cache()\n",
    "    gc.collect()"
   ]
  },
  {
   "cell_type": "code",
   "execution_count": 4,
   "id": "c5ec4915",
   "metadata": {
    "execution": {
     "iopub.execute_input": "2024-04-21T13:43:59.158089Z",
     "iopub.status.busy": "2024-04-21T13:43:59.157799Z",
     "iopub.status.idle": "2024-04-21T13:43:59.162159Z",
     "shell.execute_reply": "2024-04-21T13:43:59.161363Z"
    },
    "papermill": {
     "duration": 0.017513,
     "end_time": "2024-04-21T13:43:59.163944",
     "exception": false,
     "start_time": "2024-04-21T13:43:59.146431",
     "status": "completed"
    },
    "tags": []
   },
   "outputs": [],
   "source": [
    "predicted_score = 0.\n",
    "for p in predictions:\n",
    "    predicted_score += p\n",
    "    \n",
    "predicted_score /= len(predictions)"
   ]
  },
  {
   "cell_type": "code",
   "execution_count": 5,
   "id": "df1bffe2",
   "metadata": {
    "execution": {
     "iopub.execute_input": "2024-04-21T13:43:59.185951Z",
     "iopub.status.busy": "2024-04-21T13:43:59.185682Z",
     "iopub.status.idle": "2024-04-21T13:43:59.199508Z",
     "shell.execute_reply": "2024-04-21T13:43:59.198689Z"
    },
    "papermill": {
     "duration": 0.027076,
     "end_time": "2024-04-21T13:43:59.201476",
     "exception": false,
     "start_time": "2024-04-21T13:43:59.174400",
     "status": "completed"
    },
    "tags": []
   },
   "outputs": [
    {
     "data": {
      "text/html": [
       "<div>\n",
       "<style scoped>\n",
       "    .dataframe tbody tr th:only-of-type {\n",
       "        vertical-align: middle;\n",
       "    }\n",
       "\n",
       "    .dataframe tbody tr th {\n",
       "        vertical-align: top;\n",
       "    }\n",
       "\n",
       "    .dataframe thead th {\n",
       "        text-align: right;\n",
       "    }\n",
       "</style>\n",
       "<table border=\"1\" class=\"dataframe\">\n",
       "  <thead>\n",
       "    <tr style=\"text-align: right;\">\n",
       "      <th></th>\n",
       "      <th>essay_id</th>\n",
       "      <th>full_text</th>\n",
       "      <th>score</th>\n",
       "    </tr>\n",
       "  </thead>\n",
       "  <tbody>\n",
       "    <tr>\n",
       "      <th>0</th>\n",
       "      <td>000d118</td>\n",
       "      <td>Many people have car where they live. The thin...</td>\n",
       "      <td>3</td>\n",
       "    </tr>\n",
       "    <tr>\n",
       "      <th>1</th>\n",
       "      <td>000fe60</td>\n",
       "      <td>I am a scientist at NASA that is discussing th...</td>\n",
       "      <td>3</td>\n",
       "    </tr>\n",
       "    <tr>\n",
       "      <th>2</th>\n",
       "      <td>001ab80</td>\n",
       "      <td>People always wish they had the same technolog...</td>\n",
       "      <td>5</td>\n",
       "    </tr>\n",
       "  </tbody>\n",
       "</table>\n",
       "</div>"
      ],
      "text/plain": [
       "  essay_id                                          full_text  score\n",
       "0  000d118  Many people have car where they live. The thin...      3\n",
       "1  000fe60  I am a scientist at NASA that is discussing th...      3\n",
       "2  001ab80  People always wish they had the same technolog...      5"
      ]
     },
     "execution_count": 5,
     "metadata": {},
     "output_type": "execute_result"
    }
   ],
   "source": [
    "df_test['score'] = predicted_score.argmax(-1) + 1\n",
    "df_test.head()"
   ]
  },
  {
   "cell_type": "code",
   "execution_count": 6,
   "id": "65fcb16f",
   "metadata": {
    "execution": {
     "iopub.execute_input": "2024-04-21T13:43:59.224985Z",
     "iopub.status.busy": "2024-04-21T13:43:59.224687Z",
     "iopub.status.idle": "2024-04-21T13:43:59.287638Z",
     "shell.execute_reply": "2024-04-21T13:43:59.286657Z"
    },
    "papermill": {
     "duration": 0.076999,
     "end_time": "2024-04-21T13:43:59.289857",
     "exception": false,
     "start_time": "2024-04-21T13:43:59.212858",
     "status": "completed"
    },
    "tags": []
   },
   "outputs": [],
   "source": [
    "df_test[['essay_id', 'score']].to_csv('submission1.csv', index=False)"
   ]
  },
  {
   "cell_type": "markdown",
   "id": "ac4eb62e",
   "metadata": {
    "papermill": {
     "duration": 0.010563,
     "end_time": "2024-04-21T13:43:59.311534",
     "exception": false,
     "start_time": "2024-04-21T13:43:59.300971",
     "status": "completed"
    },
    "tags": []
   },
   "source": [
    "# **Data Loading**"
   ]
  },
  {
   "cell_type": "code",
   "execution_count": 7,
   "id": "b9799f6f",
   "metadata": {
    "execution": {
     "iopub.execute_input": "2024-04-21T13:43:59.335448Z",
     "iopub.status.busy": "2024-04-21T13:43:59.335099Z",
     "iopub.status.idle": "2024-04-21T13:44:00.027160Z",
     "shell.execute_reply": "2024-04-21T13:44:00.026264Z"
    },
    "papermill": {
     "duration": 0.70721,
     "end_time": "2024-04-21T13:44:00.029435",
     "exception": false,
     "start_time": "2024-04-21T13:43:59.322225",
     "status": "completed"
    },
    "tags": []
   },
   "outputs": [
    {
     "data": {
      "text/html": [
       "<div><style>\n",
       ".dataframe > thead > tr,\n",
       ".dataframe > tbody > tr {\n",
       "  text-align: right;\n",
       "  white-space: pre-wrap;\n",
       "}\n",
       "</style>\n",
       "<small>shape: (1, 4)</small><table border=\"1\" class=\"dataframe\"><thead><tr><th>essay_id</th><th>full_text</th><th>score</th><th>paragraph</th></tr><tr><td>str</td><td>str</td><td>i64</td><td>list[str]</td></tr></thead><tbody><tr><td>&quot;000d118&quot;</td><td>&quot;Many people ha…</td><td>3</td><td>[&quot;Many people have car where they live. The thing they don&#x27;t know is that when you use a car alot of thing can happen like you can get in accidet or the smoke that the car has is bad to breath on if someone is walk but in VAUBAN,Germany they dont have that proble because 70 percent of vauban&#x27;s families do not own cars,and 57 percent sold a car to move there. Street parkig ,driveways and home garages are forbidden on the outskirts of freiburd that near the French and Swiss borders. You probaly won&#x27;t see a car in Vauban&#x27;s streets because they are completely &quot;car free&quot; but If some that lives in VAUBAN that owns a car ownership is allowed,but there are only two places that you can park a large garages at the edge of the development,where a car owner buys a space but it not cheap to buy one they sell the space for you car for $40,000 along with a home. The vauban people completed this in 2006 ,they said that this an example of a growing trend in Europe,The untile states and some where else are suburban life from auto use this is called &quot;smart planning&quot;. The current efforts to drastically reduce greenhouse gas emissions from tailes the passengee cars are responsible for 12 percent of greenhouse gas emissions in Europe and up to 50 percent in some car intensive in the United States. I honeslty think that good idea that they did that is Vaudan because that makes cities denser and better for walking and in VAUBAN there are 5,500 residents within a rectangular square mile. In the artical David Gold berg said that &quot;All of our development since World war 2 has been centered on the cars,and that will have to change&quot; and i think that was very true what David Gold said because alot thing we need cars to do we can go anyway were with out cars beacuse some people are a very lazy to walk to place thats why they alot of people use car and i think that it was a good idea that that they did that in VAUBAN so people can see how we really don&#x27;t need car to go to place from place because we can walk from were we need to go or we can ride bycles with out the use of a car. It good that they are doing that if you thik about your help the earth in way and thats a very good thing to. In the United states ,the Environmental protection Agency is promoting what is called &quot;car reduced&quot;communtunties,and the legislators are starting to act,if cautiously. Maany experts expect pubic transport serving suburbs to play a much larger role in a new six years federal transportation bill to approved this year. In previous bill,80 percent of appropriations have by law gone to highways and only 20 percent to other transports. There many good reason why they should do this.    &quot;]</td></tr></tbody></table></div>"
      ],
      "text/plain": [
       "shape: (1, 4)\n",
       "┌──────────┬───────────────────────────────────┬───────┬───────────────────────────────────┐\n",
       "│ essay_id ┆ full_text                         ┆ score ┆ paragraph                         │\n",
       "│ ---      ┆ ---                               ┆ ---   ┆ ---                               │\n",
       "│ str      ┆ str                               ┆ i64   ┆ list[str]                         │\n",
       "╞══════════╪═══════════════════════════════════╪═══════╪═══════════════════════════════════╡\n",
       "│ 000d118  ┆ Many people have car where they … ┆ 3     ┆ [\"Many people have car where the… │\n",
       "└──────────┴───────────────────────────────────┴───────┴───────────────────────────────────┘"
      ]
     },
     "execution_count": 7,
     "metadata": {},
     "output_type": "execute_result"
    }
   ],
   "source": [
    "columns = [  \n",
    "    (\n",
    "        pl.col(\"full_text\").str.split(by=\"\\n\\n\").alias(\"paragraph\")\n",
    "    ),\n",
    "]\n",
    "PATH = \"/kaggle/input/learning-agency-lab-automated-essay-scoring-2/\"\n",
    "\n",
    "train = pl.read_csv(PATH + \"train.csv\").with_columns(columns)\n",
    "test = pl.read_csv(PATH + \"test.csv\").with_columns(columns)\n",
    "\n",
    "train.head(1)"
   ]
  },
  {
   "cell_type": "markdown",
   "id": "17e916ae",
   "metadata": {
    "papermill": {
     "duration": 0.010758,
     "end_time": "2024-04-21T13:44:00.051451",
     "exception": false,
     "start_time": "2024-04-21T13:44:00.040693",
     "status": "completed"
    },
    "tags": []
   },
   "source": [
    "# **Preprocessing**"
   ]
  },
  {
   "cell_type": "code",
   "execution_count": 8,
   "id": "4e1ed3b7",
   "metadata": {
    "execution": {
     "iopub.execute_input": "2024-04-21T13:44:00.075137Z",
     "iopub.status.busy": "2024-04-21T13:44:00.074841Z",
     "iopub.status.idle": "2024-04-21T13:44:00.094624Z",
     "shell.execute_reply": "2024-04-21T13:44:00.093714Z"
    },
    "papermill": {
     "duration": 0.034272,
     "end_time": "2024-04-21T13:44:00.096589",
     "exception": false,
     "start_time": "2024-04-21T13:44:00.062317",
     "status": "completed"
    },
    "tags": []
   },
   "outputs": [],
   "source": [
    "cList = {\n",
    "  \"ain't\": \"am not\",\"aren't\": \"are not\",\"can't\": \"cannot\",\"can't've\": \"cannot have\",\"'cause\": \"because\",  \"could've\": \"could have\",\"couldn't\": \"could not\",\"couldn't've\": \"could not have\",\"didn't\": \"did not\",\"doesn't\": \"does not\",\"don't\": \"do not\",\"hadn't\": \"had not\",\"hadn't've\": \"had not have\",\"hasn't\": \"has not\",\n",
    "  \"haven't\": \"have not\",\"he'd\": \"he would\",\"he'd've\": \"he would have\",\"he'll\": \"he will\",\"he'll've\": \"he will have\",\"he's\": \"he is\",\n",
    "  \"how'd\": \"how did\",\"how'd'y\": \"how do you\",\"how'll\": \"how will\",\"how's\": \"how is\",\"I'd\": \"I would\",\"I'd've\": \"I would have\",\"I'll\": \"I will\",\"I'll've\": \"I will have\",\"I'm\": \"I am\",\"I've\": \"I have\",\n",
    "  \"isn't\": \"is not\",\"it'd\": \"it had\",\"it'd've\": \"it would have\",\"it'll\": \"it will\", \"it'll've\": \"it will have\",\"it's\": \"it is\",\"let's\": \"let us\",\"ma'am\": \"madam\",\"mayn't\": \"may not\",\n",
    "  \"might've\": \"might have\",\"mightn't\": \"might not\",\"mightn't've\": \"might not have\",\"must've\": \"must have\",\"mustn't\": \"must not\",\"mustn't've\": \"must not have\",\"needn't\": \"need not\",\"needn't've\": \"need not have\",\"o'clock\": \"of the clock\",\"oughtn't\": \"ought not\",\"oughtn't've\": \"ought not have\",\"shan't\": \"shall not\",\"sha'n't\": \"shall not\",\n",
    "  \"shan't've\": \"shall not have\",\"she'd\": \"she would\",\"she'd've\": \"she would have\",\"she'll\": \"she will\",\"she'll've\": \"she will have\",\"she's\": \"she is\",\n",
    "  \"should've\": \"should have\",\"shouldn't\": \"should not\",\"shouldn't've\": \"should not have\",\"so've\": \"so have\",\"so's\": \"so is\",\"that'd\": \"that would\",\"that'd've\": \"that would have\",\"that's\": \"that is\",\"there'd\": \"there had\",\"there'd've\": \"there would have\",\"there's\": \"there is\",\"they'd\": \"they would\",\"they'd've\": \"they would have\",\"they'll\": \"they will\",\"they'll've\": \"they will have\",\"they're\": \"they are\",\"they've\": \"they have\",\"to've\": \"to have\",\"wasn't\": \"was not\",\"we'd\": \"we had\",\n",
    "  \"we'd've\": \"we would have\",\"we'll\": \"we will\",\"we'll've\": \"we will have\",\"we're\": \"we are\",\"we've\": \"we have\",\n",
    "  \"weren't\": \"were not\",\"what'll\": \"what will\",\"what'll've\": \"what will have\",\n",
    "  \"what're\": \"what are\",\"what's\": \"what is\",\"what've\": \"what have\",\"when's\": \"when is\",\"when've\": \"when have\",\n",
    "  \"where'd\": \"where did\",\"where's\": \"where is\",\"where've\": \"where have\",\"who'll\": \"who will\",\"who'll've\": \"who will have\",\"who's\": \"who is\",\"who've\": \"who have\",\"why's\": \"why is\",\n",
    "  \"why've\": \"why have\",\"will've\": \"will have\",\"won't\": \"will not\",\"won't've\": \"will not have\",\"would've\": \"would have\",\"wouldn't\": \"would not\",\n",
    "  \"wouldn't've\": \"would not have\",\"y'all\": \"you all\",\"y'alls\": \"you alls\",\"y'all'd\": \"you all would\",\n",
    "  \"y'all'd've\": \"you all would have\",\"y'all're\": \"you all are\",\"y'all've\": \"you all have\",\"you'd\": \"you had\",\"you'd've\": \"you would have\",\"you'll\": \"you you will\",\"you'll've\": \"you you will have\",\"you're\": \"you are\",  \"you've\": \"you have\"\n",
    "   }\n",
    "\n",
    "c_re = re.compile('(%s)' % '|'.join(cList.keys()))\n",
    "\n",
    "def expandContractions(text, c_re=c_re):\n",
    "    def replace(match):\n",
    "        return cList[match.group(0)]\n",
    "    return c_re.sub(replace, text)\n",
    "\n",
    "def removeHTML(x):\n",
    "    html=re.compile(r'<.*?>')\n",
    "    return html.sub(r'',x)\n",
    "def dataPreprocessing(x):\n",
    "    x = x.lower()\n",
    "    x = removeHTML(x)\n",
    "    x = re.sub(\"@\\w+\", '',x)\n",
    "    x = re.sub(\"'\\d+\", '',x)\n",
    "    x = re.sub(\"\\d+\", '',x)\n",
    "    x = re.sub(\"http\\w+\", '',x)\n",
    "    x = re.sub(r\"\\s+\", \" \", x)\n",
    "#     x = expandContractions(x)\n",
    "    x = re.sub(r\"\\.+\", \".\", x)\n",
    "    x = re.sub(r\"\\,+\", \",\", x)\n",
    "    x = x.strip()\n",
    "    return x"
   ]
  },
  {
   "cell_type": "markdown",
   "id": "a7df57bd",
   "metadata": {
    "papermill": {
     "duration": 0.010929,
     "end_time": "2024-04-21T13:44:00.118432",
     "exception": false,
     "start_time": "2024-04-21T13:44:00.107503",
     "status": "completed"
    },
    "tags": []
   },
   "source": [
    "# **Feature Engineering**"
   ]
  },
  {
   "cell_type": "markdown",
   "id": "2445ad5c",
   "metadata": {
    "papermill": {
     "duration": 0.010677,
     "end_time": "2024-04-21T13:44:00.139679",
     "exception": false,
     "start_time": "2024-04-21T13:44:00.129002",
     "status": "completed"
    },
    "tags": []
   },
   "source": [
    "### 1.Paragraph Features"
   ]
  },
  {
   "cell_type": "code",
   "execution_count": 9,
   "id": "cca1b29b",
   "metadata": {
    "execution": {
     "iopub.execute_input": "2024-04-21T13:44:00.163497Z",
     "iopub.status.busy": "2024-04-21T13:44:00.162600Z",
     "iopub.status.idle": "2024-04-21T13:44:07.381945Z",
     "shell.execute_reply": "2024-04-21T13:44:07.380711Z"
    },
    "papermill": {
     "duration": 7.233466,
     "end_time": "2024-04-21T13:44:07.384012",
     "exception": false,
     "start_time": "2024-04-21T13:44:00.150546",
     "status": "completed"
    },
    "tags": []
   },
   "outputs": [
    {
     "name": "stdout",
     "output_type": "stream",
     "text": [
      "Number of Features:  31\n"
     ]
    },
    {
     "data": {
      "text/html": [
       "<div>\n",
       "<style scoped>\n",
       "    .dataframe tbody tr th:only-of-type {\n",
       "        vertical-align: middle;\n",
       "    }\n",
       "\n",
       "    .dataframe tbody tr th {\n",
       "        vertical-align: top;\n",
       "    }\n",
       "\n",
       "    .dataframe thead th {\n",
       "        text-align: right;\n",
       "    }\n",
       "</style>\n",
       "<table border=\"1\" class=\"dataframe\">\n",
       "  <thead>\n",
       "    <tr style=\"text-align: right;\">\n",
       "      <th></th>\n",
       "      <th>essay_id</th>\n",
       "      <th>paragraph_50_cnt</th>\n",
       "      <th>paragraph_75_cnt</th>\n",
       "      <th>paragraph_100_cnt</th>\n",
       "      <th>paragraph_125_cnt</th>\n",
       "      <th>paragraph_150_cnt</th>\n",
       "      <th>paragraph_175_cnt</th>\n",
       "      <th>paragraph_200_cnt</th>\n",
       "      <th>paragraph_250_cnt</th>\n",
       "      <th>paragraph_300_cnt</th>\n",
       "      <th>...</th>\n",
       "      <th>paragraph_len_min</th>\n",
       "      <th>paragraph_sentence_cnt_min</th>\n",
       "      <th>paragraph_word_cnt_min</th>\n",
       "      <th>paragraph_len_first</th>\n",
       "      <th>paragraph_sentence_cnt_first</th>\n",
       "      <th>paragraph_word_cnt_first</th>\n",
       "      <th>paragraph_len_last</th>\n",
       "      <th>paragraph_sentence_cnt_last</th>\n",
       "      <th>paragraph_word_cnt_last</th>\n",
       "      <th>score</th>\n",
       "    </tr>\n",
       "  </thead>\n",
       "  <tbody>\n",
       "    <tr>\n",
       "      <th>0</th>\n",
       "      <td>000d118</td>\n",
       "      <td>1</td>\n",
       "      <td>1</td>\n",
       "      <td>1</td>\n",
       "      <td>1</td>\n",
       "      <td>1</td>\n",
       "      <td>1</td>\n",
       "      <td>1</td>\n",
       "      <td>1</td>\n",
       "      <td>1</td>\n",
       "      <td>...</td>\n",
       "      <td>2640</td>\n",
       "      <td>14</td>\n",
       "      <td>491</td>\n",
       "      <td>2640</td>\n",
       "      <td>14</td>\n",
       "      <td>491</td>\n",
       "      <td>2640</td>\n",
       "      <td>14</td>\n",
       "      <td>491</td>\n",
       "      <td>3</td>\n",
       "    </tr>\n",
       "    <tr>\n",
       "      <th>1</th>\n",
       "      <td>000fe60</td>\n",
       "      <td>5</td>\n",
       "      <td>5</td>\n",
       "      <td>5</td>\n",
       "      <td>5</td>\n",
       "      <td>5</td>\n",
       "      <td>5</td>\n",
       "      <td>4</td>\n",
       "      <td>3</td>\n",
       "      <td>3</td>\n",
       "      <td>...</td>\n",
       "      <td>184</td>\n",
       "      <td>3</td>\n",
       "      <td>37</td>\n",
       "      <td>184</td>\n",
       "      <td>4</td>\n",
       "      <td>37</td>\n",
       "      <td>235</td>\n",
       "      <td>3</td>\n",
       "      <td>46</td>\n",
       "      <td>3</td>\n",
       "    </tr>\n",
       "    <tr>\n",
       "      <th>2</th>\n",
       "      <td>001ab80</td>\n",
       "      <td>4</td>\n",
       "      <td>4</td>\n",
       "      <td>4</td>\n",
       "      <td>4</td>\n",
       "      <td>4</td>\n",
       "      <td>4</td>\n",
       "      <td>4</td>\n",
       "      <td>4</td>\n",
       "      <td>4</td>\n",
       "      <td>...</td>\n",
       "      <td>476</td>\n",
       "      <td>5</td>\n",
       "      <td>85</td>\n",
       "      <td>576</td>\n",
       "      <td>5</td>\n",
       "      <td>101</td>\n",
       "      <td>476</td>\n",
       "      <td>5</td>\n",
       "      <td>85</td>\n",
       "      <td>4</td>\n",
       "    </tr>\n",
       "  </tbody>\n",
       "</table>\n",
       "<p>3 rows × 33 columns</p>\n",
       "</div>"
      ],
      "text/plain": [
       "  essay_id  paragraph_50_cnt  paragraph_75_cnt  paragraph_100_cnt  \\\n",
       "0  000d118                 1                 1                  1   \n",
       "1  000fe60                 5                 5                  5   \n",
       "2  001ab80                 4                 4                  4   \n",
       "\n",
       "   paragraph_125_cnt  paragraph_150_cnt  paragraph_175_cnt  paragraph_200_cnt  \\\n",
       "0                  1                  1                  1                  1   \n",
       "1                  5                  5                  5                  4   \n",
       "2                  4                  4                  4                  4   \n",
       "\n",
       "   paragraph_250_cnt  paragraph_300_cnt  ...  paragraph_len_min  \\\n",
       "0                  1                  1  ...               2640   \n",
       "1                  3                  3  ...                184   \n",
       "2                  4                  4  ...                476   \n",
       "\n",
       "   paragraph_sentence_cnt_min  paragraph_word_cnt_min  paragraph_len_first  \\\n",
       "0                          14                     491                 2640   \n",
       "1                           3                      37                  184   \n",
       "2                           5                      85                  576   \n",
       "\n",
       "   paragraph_sentence_cnt_first  paragraph_word_cnt_first  paragraph_len_last  \\\n",
       "0                            14                       491                2640   \n",
       "1                             4                        37                 235   \n",
       "2                             5                       101                 476   \n",
       "\n",
       "   paragraph_sentence_cnt_last  paragraph_word_cnt_last  score  \n",
       "0                           14                      491      3  \n",
       "1                            3                       46      3  \n",
       "2                            5                       85      4  \n",
       "\n",
       "[3 rows x 33 columns]"
      ]
     },
     "execution_count": 9,
     "metadata": {},
     "output_type": "execute_result"
    }
   ],
   "source": [
    "def Paragraph_Preprocess(tmp):\n",
    "    \n",
    "    tmp = tmp.explode('paragraph')\n",
    "    tmp = tmp.with_columns(pl.col('paragraph').map_elements(dataPreprocessing))\n",
    "    tmp = tmp.with_columns(pl.col('paragraph').map_elements(lambda x: len(x)).alias(\"paragraph_len\"))\n",
    "    tmp = tmp.with_columns(pl.col('paragraph').map_elements(lambda x: len(x.split('.'))).alias(\"paragraph_sentence_cnt\"),\n",
    "                    pl.col('paragraph').map_elements(lambda x: len(x.split(' '))).alias(\"paragraph_word_cnt\"),)\n",
    "    return tmp\n",
    "\n",
    "paragraph_fea = ['paragraph_len','paragraph_sentence_cnt','paragraph_word_cnt']\n",
    "\n",
    "def Paragraph_Eng(train_tmp):\n",
    "    aggs = [\n",
    "        \n",
    "        *[pl.col('paragraph').filter(pl.col('paragraph_len') >= i).count().alias(f\"paragraph_{i}_cnt\") for i in [50,75,100,125,150,175,200,250,300,350,400,500,600,700] ], \n",
    "        *[pl.col('paragraph').filter(pl.col('paragraph_len') <= i).count().alias(f\"paragraph_{i}_cnt\") for i in [25,49]], \n",
    "        *[pl.col(fea).max().alias(f\"{fea}_max\") for fea in paragraph_fea],\n",
    "        *[pl.col(fea).mean().alias(f\"{fea}_mean\") for fea in paragraph_fea],\n",
    "        *[pl.col(fea).min().alias(f\"{fea}_min\") for fea in paragraph_fea],\n",
    "        *[pl.col(fea).first().alias(f\"{fea}_first\") for fea in paragraph_fea],\n",
    "        *[pl.col(fea).last().alias(f\"{fea}_last\") for fea in paragraph_fea],\n",
    "        ]\n",
    "    df = train_tmp.group_by(['essay_id'], maintain_order=True).agg(aggs).sort(\"essay_id\")\n",
    "    df = df.to_pandas()\n",
    "    return df\n",
    "tmp = Paragraph_Preprocess(train)\n",
    "train_feats = Paragraph_Eng(tmp)\n",
    "train_feats['score'] = train['score']\n",
    "feature_names = list(filter(lambda x: x not in ['essay_id','score'], train_feats.columns))\n",
    "print('Number of Features: ',len(feature_names))\n",
    "train_feats.head(3)"
   ]
  },
  {
   "cell_type": "markdown",
   "id": "04293394",
   "metadata": {
    "papermill": {
     "duration": 0.011483,
     "end_time": "2024-04-21T13:44:07.407742",
     "exception": false,
     "start_time": "2024-04-21T13:44:07.396259",
     "status": "completed"
    },
    "tags": []
   },
   "source": [
    "### 2.Sentence Features"
   ]
  },
  {
   "cell_type": "code",
   "execution_count": 10,
   "id": "89b8affb",
   "metadata": {
    "execution": {
     "iopub.execute_input": "2024-04-21T13:44:07.432382Z",
     "iopub.status.busy": "2024-04-21T13:44:07.432038Z",
     "iopub.status.idle": "2024-04-21T13:44:14.498815Z",
     "shell.execute_reply": "2024-04-21T13:44:14.497874Z"
    },
    "papermill": {
     "duration": 7.081576,
     "end_time": "2024-04-21T13:44:14.500762",
     "exception": false,
     "start_time": "2024-04-21T13:44:07.419186",
     "status": "completed"
    },
    "tags": []
   },
   "outputs": [
    {
     "name": "stdout",
     "output_type": "stream",
     "text": [
      "Number of Features:  48\n"
     ]
    },
    {
     "data": {
      "text/html": [
       "<div>\n",
       "<style scoped>\n",
       "    .dataframe tbody tr th:only-of-type {\n",
       "        vertical-align: middle;\n",
       "    }\n",
       "\n",
       "    .dataframe tbody tr th {\n",
       "        vertical-align: top;\n",
       "    }\n",
       "\n",
       "    .dataframe thead th {\n",
       "        text-align: right;\n",
       "    }\n",
       "</style>\n",
       "<table border=\"1\" class=\"dataframe\">\n",
       "  <thead>\n",
       "    <tr style=\"text-align: right;\">\n",
       "      <th></th>\n",
       "      <th>essay_id</th>\n",
       "      <th>paragraph_50_cnt</th>\n",
       "      <th>paragraph_75_cnt</th>\n",
       "      <th>paragraph_100_cnt</th>\n",
       "      <th>paragraph_125_cnt</th>\n",
       "      <th>paragraph_150_cnt</th>\n",
       "      <th>paragraph_175_cnt</th>\n",
       "      <th>paragraph_200_cnt</th>\n",
       "      <th>paragraph_250_cnt</th>\n",
       "      <th>paragraph_300_cnt</th>\n",
       "      <th>...</th>\n",
       "      <th>sentence_len_max</th>\n",
       "      <th>sentence_word_cnt_max</th>\n",
       "      <th>sentence_len_mean</th>\n",
       "      <th>sentence_word_cnt_mean</th>\n",
       "      <th>sentence_len_min</th>\n",
       "      <th>sentence_word_cnt_min</th>\n",
       "      <th>sentence_len_first</th>\n",
       "      <th>sentence_word_cnt_first</th>\n",
       "      <th>sentence_len_last</th>\n",
       "      <th>sentence_word_cnt_last</th>\n",
       "    </tr>\n",
       "  </thead>\n",
       "  <tbody>\n",
       "    <tr>\n",
       "      <th>0</th>\n",
       "      <td>000d118</td>\n",
       "      <td>1</td>\n",
       "      <td>1</td>\n",
       "      <td>1</td>\n",
       "      <td>1</td>\n",
       "      <td>1</td>\n",
       "      <td>1</td>\n",
       "      <td>1</td>\n",
       "      <td>1</td>\n",
       "      <td>1</td>\n",
       "      <td>...</td>\n",
       "      <td>593</td>\n",
       "      <td>127</td>\n",
       "      <td>202.076923</td>\n",
       "      <td>38.692308</td>\n",
       "      <td>36</td>\n",
       "      <td>7</td>\n",
       "      <td>36</td>\n",
       "      <td>7</td>\n",
       "      <td>47</td>\n",
       "      <td>10</td>\n",
       "    </tr>\n",
       "    <tr>\n",
       "      <th>1</th>\n",
       "      <td>000fe60</td>\n",
       "      <td>5</td>\n",
       "      <td>5</td>\n",
       "      <td>5</td>\n",
       "      <td>5</td>\n",
       "      <td>5</td>\n",
       "      <td>5</td>\n",
       "      <td>4</td>\n",
       "      <td>3</td>\n",
       "      <td>3</td>\n",
       "      <td>...</td>\n",
       "      <td>250</td>\n",
       "      <td>49</td>\n",
       "      <td>96.823529</td>\n",
       "      <td>20.470588</td>\n",
       "      <td>27</td>\n",
       "      <td>7</td>\n",
       "      <td>62</td>\n",
       "      <td>13</td>\n",
       "      <td>124</td>\n",
       "      <td>25</td>\n",
       "    </tr>\n",
       "    <tr>\n",
       "      <th>2</th>\n",
       "      <td>001ab80</td>\n",
       "      <td>4</td>\n",
       "      <td>4</td>\n",
       "      <td>4</td>\n",
       "      <td>4</td>\n",
       "      <td>4</td>\n",
       "      <td>4</td>\n",
       "      <td>4</td>\n",
       "      <td>4</td>\n",
       "      <td>4</td>\n",
       "      <td>...</td>\n",
       "      <td>237</td>\n",
       "      <td>47</td>\n",
       "      <td>126.708333</td>\n",
       "      <td>23.875000</td>\n",
       "      <td>58</td>\n",
       "      <td>10</td>\n",
       "      <td>144</td>\n",
       "      <td>27</td>\n",
       "      <td>58</td>\n",
       "      <td>10</td>\n",
       "    </tr>\n",
       "  </tbody>\n",
       "</table>\n",
       "<p>3 rows × 50 columns</p>\n",
       "</div>"
      ],
      "text/plain": [
       "  essay_id  paragraph_50_cnt  paragraph_75_cnt  paragraph_100_cnt  \\\n",
       "0  000d118                 1                 1                  1   \n",
       "1  000fe60                 5                 5                  5   \n",
       "2  001ab80                 4                 4                  4   \n",
       "\n",
       "   paragraph_125_cnt  paragraph_150_cnt  paragraph_175_cnt  paragraph_200_cnt  \\\n",
       "0                  1                  1                  1                  1   \n",
       "1                  5                  5                  5                  4   \n",
       "2                  4                  4                  4                  4   \n",
       "\n",
       "   paragraph_250_cnt  paragraph_300_cnt  ...  sentence_len_max  \\\n",
       "0                  1                  1  ...               593   \n",
       "1                  3                  3  ...               250   \n",
       "2                  4                  4  ...               237   \n",
       "\n",
       "   sentence_word_cnt_max  sentence_len_mean  sentence_word_cnt_mean  \\\n",
       "0                    127         202.076923               38.692308   \n",
       "1                     49          96.823529               20.470588   \n",
       "2                     47         126.708333               23.875000   \n",
       "\n",
       "   sentence_len_min  sentence_word_cnt_min  sentence_len_first  \\\n",
       "0                36                      7                  36   \n",
       "1                27                      7                  62   \n",
       "2                58                     10                 144   \n",
       "\n",
       "   sentence_word_cnt_first  sentence_len_last  sentence_word_cnt_last  \n",
       "0                        7                 47                      10  \n",
       "1                       13                124                      25  \n",
       "2                       27                 58                      10  \n",
       "\n",
       "[3 rows x 50 columns]"
      ]
     },
     "execution_count": 10,
     "metadata": {},
     "output_type": "execute_result"
    }
   ],
   "source": [
    "def Sentence_Preprocess(tmp):\n",
    "    tmp = tmp.with_columns(pl.col('full_text').map_elements(dataPreprocessing).str.split(by=\".\").alias(\"sentence\"))\n",
    "    tmp = tmp.explode('sentence')\n",
    "    tmp = tmp.with_columns(pl.col('sentence').map_elements(lambda x: len(x)).alias(\"sentence_len\"))\n",
    "    tmp = tmp.filter(pl.col('sentence_len')>=15)\n",
    "    tmp = tmp.with_columns(pl.col('sentence').map_elements(lambda x: len(x.split(' '))).alias(\"sentence_word_cnt\"))\n",
    "    return tmp\n",
    "\n",
    "sentence_fea = ['sentence_len','sentence_word_cnt']\n",
    "def Sentence_Eng(train_tmp):\n",
    "    aggs = [\n",
    "        *[pl.col('sentence').filter(pl.col('sentence_len') >= i).count().alias(f\"sentence_{i}_cnt\") for i in [15,50,100,150,200,250,300] ], \n",
    "        *[pl.col(fea).max().alias(f\"{fea}_max\") for fea in sentence_fea],\n",
    "        *[pl.col(fea).mean().alias(f\"{fea}_mean\") for fea in sentence_fea],\n",
    "        *[pl.col(fea).min().alias(f\"{fea}_min\") for fea in sentence_fea],\n",
    "        *[pl.col(fea).first().alias(f\"{fea}_first\") for fea in sentence_fea],\n",
    "        *[pl.col(fea).last().alias(f\"{fea}_last\") for fea in sentence_fea],\n",
    "        ]\n",
    "    df = train_tmp.group_by(['essay_id'], maintain_order=True).agg(aggs).sort(\"essay_id\")\n",
    "    df = df.to_pandas()\n",
    "    return df\n",
    "\n",
    "tmp = Sentence_Preprocess(train)\n",
    "train_feats = train_feats.merge(Sentence_Eng(tmp), on='essay_id', how='left')\n",
    "feature_names = list(filter(lambda x: x not in ['essay_id','score'], train_feats.columns))\n",
    "print('Number of Features: ',len(feature_names))\n",
    "train_feats.head(3)"
   ]
  },
  {
   "cell_type": "markdown",
   "id": "59dc56b0",
   "metadata": {
    "papermill": {
     "duration": 0.011484,
     "end_time": "2024-04-21T13:44:14.524923",
     "exception": false,
     "start_time": "2024-04-21T13:44:14.513439",
     "status": "completed"
    },
    "tags": []
   },
   "source": [
    "### 3.Word Features"
   ]
  },
  {
   "cell_type": "code",
   "execution_count": 11,
   "id": "e9cc5474",
   "metadata": {
    "execution": {
     "iopub.execute_input": "2024-04-21T13:44:14.549974Z",
     "iopub.status.busy": "2024-04-21T13:44:14.549122Z",
     "iopub.status.idle": "2024-04-21T13:44:27.684063Z",
     "shell.execute_reply": "2024-04-21T13:44:27.683032Z"
    },
    "papermill": {
     "duration": 13.149687,
     "end_time": "2024-04-21T13:44:27.686255",
     "exception": false,
     "start_time": "2024-04-21T13:44:14.536568",
     "status": "completed"
    },
    "tags": []
   },
   "outputs": [
    {
     "name": "stdout",
     "output_type": "stream",
     "text": [
      "Number of Features:  69\n"
     ]
    },
    {
     "data": {
      "text/html": [
       "<div>\n",
       "<style scoped>\n",
       "    .dataframe tbody tr th:only-of-type {\n",
       "        vertical-align: middle;\n",
       "    }\n",
       "\n",
       "    .dataframe tbody tr th {\n",
       "        vertical-align: top;\n",
       "    }\n",
       "\n",
       "    .dataframe thead th {\n",
       "        text-align: right;\n",
       "    }\n",
       "</style>\n",
       "<table border=\"1\" class=\"dataframe\">\n",
       "  <thead>\n",
       "    <tr style=\"text-align: right;\">\n",
       "      <th></th>\n",
       "      <th>essay_id</th>\n",
       "      <th>paragraph_50_cnt</th>\n",
       "      <th>paragraph_75_cnt</th>\n",
       "      <th>paragraph_100_cnt</th>\n",
       "      <th>paragraph_125_cnt</th>\n",
       "      <th>paragraph_150_cnt</th>\n",
       "      <th>paragraph_175_cnt</th>\n",
       "      <th>paragraph_200_cnt</th>\n",
       "      <th>paragraph_250_cnt</th>\n",
       "      <th>paragraph_300_cnt</th>\n",
       "      <th>...</th>\n",
       "      <th>word_12_cnt</th>\n",
       "      <th>word_13_cnt</th>\n",
       "      <th>word_14_cnt</th>\n",
       "      <th>word_15_cnt</th>\n",
       "      <th>word_len_max</th>\n",
       "      <th>word_len_mean</th>\n",
       "      <th>word_len_std</th>\n",
       "      <th>word_len_q1</th>\n",
       "      <th>word_len_q2</th>\n",
       "      <th>word_len_q3</th>\n",
       "    </tr>\n",
       "  </thead>\n",
       "  <tbody>\n",
       "    <tr>\n",
       "      <th>0</th>\n",
       "      <td>000d118</td>\n",
       "      <td>1</td>\n",
       "      <td>1</td>\n",
       "      <td>1</td>\n",
       "      <td>1</td>\n",
       "      <td>1</td>\n",
       "      <td>1</td>\n",
       "      <td>1</td>\n",
       "      <td>1</td>\n",
       "      <td>1</td>\n",
       "      <td>...</td>\n",
       "      <td>6</td>\n",
       "      <td>6</td>\n",
       "      <td>5</td>\n",
       "      <td>2</td>\n",
       "      <td>25</td>\n",
       "      <td>4.378819</td>\n",
       "      <td>2.538495</td>\n",
       "      <td>3.0</td>\n",
       "      <td>4.0</td>\n",
       "      <td>5.0</td>\n",
       "    </tr>\n",
       "    <tr>\n",
       "      <th>1</th>\n",
       "      <td>000fe60</td>\n",
       "      <td>5</td>\n",
       "      <td>5</td>\n",
       "      <td>5</td>\n",
       "      <td>5</td>\n",
       "      <td>5</td>\n",
       "      <td>5</td>\n",
       "      <td>4</td>\n",
       "      <td>3</td>\n",
       "      <td>3</td>\n",
       "      <td>...</td>\n",
       "      <td>0</td>\n",
       "      <td>0</td>\n",
       "      <td>0</td>\n",
       "      <td>0</td>\n",
       "      <td>11</td>\n",
       "      <td>4.012048</td>\n",
       "      <td>2.060968</td>\n",
       "      <td>2.0</td>\n",
       "      <td>4.0</td>\n",
       "      <td>5.0</td>\n",
       "    </tr>\n",
       "    <tr>\n",
       "      <th>2</th>\n",
       "      <td>001ab80</td>\n",
       "      <td>4</td>\n",
       "      <td>4</td>\n",
       "      <td>4</td>\n",
       "      <td>4</td>\n",
       "      <td>4</td>\n",
       "      <td>4</td>\n",
       "      <td>4</td>\n",
       "      <td>4</td>\n",
       "      <td>4</td>\n",
       "      <td>...</td>\n",
       "      <td>14</td>\n",
       "      <td>10</td>\n",
       "      <td>5</td>\n",
       "      <td>2</td>\n",
       "      <td>15</td>\n",
       "      <td>4.574545</td>\n",
       "      <td>2.604621</td>\n",
       "      <td>3.0</td>\n",
       "      <td>4.0</td>\n",
       "      <td>5.0</td>\n",
       "    </tr>\n",
       "  </tbody>\n",
       "</table>\n",
       "<p>3 rows × 71 columns</p>\n",
       "</div>"
      ],
      "text/plain": [
       "  essay_id  paragraph_50_cnt  paragraph_75_cnt  paragraph_100_cnt  \\\n",
       "0  000d118                 1                 1                  1   \n",
       "1  000fe60                 5                 5                  5   \n",
       "2  001ab80                 4                 4                  4   \n",
       "\n",
       "   paragraph_125_cnt  paragraph_150_cnt  paragraph_175_cnt  paragraph_200_cnt  \\\n",
       "0                  1                  1                  1                  1   \n",
       "1                  5                  5                  5                  4   \n",
       "2                  4                  4                  4                  4   \n",
       "\n",
       "   paragraph_250_cnt  paragraph_300_cnt  ...  word_12_cnt  word_13_cnt  \\\n",
       "0                  1                  1  ...            6            6   \n",
       "1                  3                  3  ...            0            0   \n",
       "2                  4                  4  ...           14           10   \n",
       "\n",
       "   word_14_cnt  word_15_cnt  word_len_max  word_len_mean  word_len_std  \\\n",
       "0            5            2            25       4.378819      2.538495   \n",
       "1            0            0            11       4.012048      2.060968   \n",
       "2            5            2            15       4.574545      2.604621   \n",
       "\n",
       "   word_len_q1  word_len_q2  word_len_q3  \n",
       "0          3.0          4.0          5.0  \n",
       "1          2.0          4.0          5.0  \n",
       "2          3.0          4.0          5.0  \n",
       "\n",
       "[3 rows x 71 columns]"
      ]
     },
     "execution_count": 11,
     "metadata": {},
     "output_type": "execute_result"
    }
   ],
   "source": [
    "def Word_Preprocess(tmp):\n",
    "    tmp = tmp.with_columns(pl.col('full_text').map_elements(dataPreprocessing).str.split(by=\" \").alias(\"word\"))\n",
    "    tmp = tmp.explode('word')\n",
    "    tmp = tmp.with_columns(pl.col('word').map_elements(lambda x: len(x)).alias(\"word_len\"))\n",
    "    tmp = tmp.filter(pl.col('word_len')!=0)\n",
    "    return tmp\n",
    "\n",
    "def Word_Eng(train_tmp):\n",
    "    aggs = [\n",
    "        *[pl.col('word').filter(pl.col('word_len') >= i+1).count().alias(f\"word_{i+1}_cnt\") for i in range(15) ], \n",
    "        pl.col('word_len').max().alias(f\"word_len_max\"),\n",
    "        pl.col('word_len').mean().alias(f\"word_len_mean\"),\n",
    "        pl.col('word_len').std().alias(f\"word_len_std\"),\n",
    "        pl.col('word_len').quantile(0.25).alias(f\"word_len_q1\"),\n",
    "        pl.col('word_len').quantile(0.50).alias(f\"word_len_q2\"),\n",
    "        pl.col('word_len').quantile(0.75).alias(f\"word_len_q3\"),\n",
    "        ]\n",
    "    df = train_tmp.group_by(['essay_id'], maintain_order=True).agg(aggs).sort(\"essay_id\")\n",
    "    df = df.to_pandas()\n",
    "    return df\n",
    "\n",
    "tmp = Word_Preprocess(train)\n",
    "train_feats = train_feats.merge(Word_Eng(tmp), on='essay_id', how='left')\n",
    "feature_names = list(filter(lambda x: x not in ['essay_id','score'], train_feats.columns))\n",
    "print('Number of Features: ',len(feature_names))\n",
    "train_feats.head(3)"
   ]
  },
  {
   "cell_type": "markdown",
   "id": "d5621515",
   "metadata": {
    "papermill": {
     "duration": 0.01237,
     "end_time": "2024-04-21T13:44:27.711982",
     "exception": false,
     "start_time": "2024-04-21T13:44:27.699612",
     "status": "completed"
    },
    "tags": []
   },
   "source": [
    "### 4.Tf-idf features"
   ]
  },
  {
   "cell_type": "code",
   "execution_count": 12,
   "id": "27c9cbd8",
   "metadata": {
    "execution": {
     "iopub.execute_input": "2024-04-21T13:44:27.736928Z",
     "iopub.status.busy": "2024-04-21T13:44:27.736654Z",
     "iopub.status.idle": "2024-04-21T13:47:39.641038Z",
     "shell.execute_reply": "2024-04-21T13:47:39.640154Z"
    },
    "papermill": {
     "duration": 191.93222,
     "end_time": "2024-04-21T13:47:39.656205",
     "exception": false,
     "start_time": "2024-04-21T13:44:27.723985",
     "status": "completed"
    },
    "tags": []
   },
   "outputs": [
    {
     "name": "stdout",
     "output_type": "stream",
     "text": [
      "Number of Features:  19696\n"
     ]
    },
    {
     "data": {
      "text/html": [
       "<div>\n",
       "<style scoped>\n",
       "    .dataframe tbody tr th:only-of-type {\n",
       "        vertical-align: middle;\n",
       "    }\n",
       "\n",
       "    .dataframe tbody tr th {\n",
       "        vertical-align: top;\n",
       "    }\n",
       "\n",
       "    .dataframe thead th {\n",
       "        text-align: right;\n",
       "    }\n",
       "</style>\n",
       "<table border=\"1\" class=\"dataframe\">\n",
       "  <thead>\n",
       "    <tr style=\"text-align: right;\">\n",
       "      <th></th>\n",
       "      <th>essay_id</th>\n",
       "      <th>paragraph_50_cnt</th>\n",
       "      <th>paragraph_75_cnt</th>\n",
       "      <th>paragraph_100_cnt</th>\n",
       "      <th>paragraph_125_cnt</th>\n",
       "      <th>paragraph_150_cnt</th>\n",
       "      <th>paragraph_175_cnt</th>\n",
       "      <th>paragraph_200_cnt</th>\n",
       "      <th>paragraph_250_cnt</th>\n",
       "      <th>paragraph_300_cnt</th>\n",
       "      <th>...</th>\n",
       "      <th>tfid_19617</th>\n",
       "      <th>tfid_19618</th>\n",
       "      <th>tfid_19619</th>\n",
       "      <th>tfid_19620</th>\n",
       "      <th>tfid_19621</th>\n",
       "      <th>tfid_19622</th>\n",
       "      <th>tfid_19623</th>\n",
       "      <th>tfid_19624</th>\n",
       "      <th>tfid_19625</th>\n",
       "      <th>tfid_19626</th>\n",
       "    </tr>\n",
       "  </thead>\n",
       "  <tbody>\n",
       "    <tr>\n",
       "      <th>0</th>\n",
       "      <td>000d118</td>\n",
       "      <td>1</td>\n",
       "      <td>1</td>\n",
       "      <td>1</td>\n",
       "      <td>1</td>\n",
       "      <td>1</td>\n",
       "      <td>1</td>\n",
       "      <td>1</td>\n",
       "      <td>1</td>\n",
       "      <td>1</td>\n",
       "      <td>...</td>\n",
       "      <td>0.0</td>\n",
       "      <td>0.0</td>\n",
       "      <td>0.0</td>\n",
       "      <td>0.0</td>\n",
       "      <td>0.0</td>\n",
       "      <td>0.0</td>\n",
       "      <td>0.0</td>\n",
       "      <td>0.0</td>\n",
       "      <td>0.0</td>\n",
       "      <td>0.0</td>\n",
       "    </tr>\n",
       "    <tr>\n",
       "      <th>1</th>\n",
       "      <td>000fe60</td>\n",
       "      <td>5</td>\n",
       "      <td>5</td>\n",
       "      <td>5</td>\n",
       "      <td>5</td>\n",
       "      <td>5</td>\n",
       "      <td>5</td>\n",
       "      <td>4</td>\n",
       "      <td>3</td>\n",
       "      <td>3</td>\n",
       "      <td>...</td>\n",
       "      <td>0.0</td>\n",
       "      <td>0.0</td>\n",
       "      <td>0.0</td>\n",
       "      <td>0.0</td>\n",
       "      <td>0.0</td>\n",
       "      <td>0.0</td>\n",
       "      <td>0.0</td>\n",
       "      <td>0.0</td>\n",
       "      <td>0.0</td>\n",
       "      <td>0.0</td>\n",
       "    </tr>\n",
       "    <tr>\n",
       "      <th>2</th>\n",
       "      <td>001ab80</td>\n",
       "      <td>4</td>\n",
       "      <td>4</td>\n",
       "      <td>4</td>\n",
       "      <td>4</td>\n",
       "      <td>4</td>\n",
       "      <td>4</td>\n",
       "      <td>4</td>\n",
       "      <td>4</td>\n",
       "      <td>4</td>\n",
       "      <td>...</td>\n",
       "      <td>0.0</td>\n",
       "      <td>0.0</td>\n",
       "      <td>0.0</td>\n",
       "      <td>0.0</td>\n",
       "      <td>0.0</td>\n",
       "      <td>0.0</td>\n",
       "      <td>0.0</td>\n",
       "      <td>0.0</td>\n",
       "      <td>0.0</td>\n",
       "      <td>0.0</td>\n",
       "    </tr>\n",
       "  </tbody>\n",
       "</table>\n",
       "<p>3 rows × 19698 columns</p>\n",
       "</div>"
      ],
      "text/plain": [
       "  essay_id  paragraph_50_cnt  paragraph_75_cnt  paragraph_100_cnt  \\\n",
       "0  000d118                 1                 1                  1   \n",
       "1  000fe60                 5                 5                  5   \n",
       "2  001ab80                 4                 4                  4   \n",
       "\n",
       "   paragraph_125_cnt  paragraph_150_cnt  paragraph_175_cnt  paragraph_200_cnt  \\\n",
       "0                  1                  1                  1                  1   \n",
       "1                  5                  5                  5                  4   \n",
       "2                  4                  4                  4                  4   \n",
       "\n",
       "   paragraph_250_cnt  paragraph_300_cnt  ...  tfid_19617  tfid_19618  \\\n",
       "0                  1                  1  ...         0.0         0.0   \n",
       "1                  3                  3  ...         0.0         0.0   \n",
       "2                  4                  4  ...         0.0         0.0   \n",
       "\n",
       "   tfid_19619  tfid_19620  tfid_19621  tfid_19622  tfid_19623  tfid_19624  \\\n",
       "0         0.0         0.0         0.0         0.0         0.0         0.0   \n",
       "1         0.0         0.0         0.0         0.0         0.0         0.0   \n",
       "2         0.0         0.0         0.0         0.0         0.0         0.0   \n",
       "\n",
       "   tfid_19625  tfid_19626  \n",
       "0         0.0         0.0  \n",
       "1         0.0         0.0  \n",
       "2         0.0         0.0  \n",
       "\n",
       "[3 rows x 19698 columns]"
      ]
     },
     "execution_count": 12,
     "metadata": {},
     "output_type": "execute_result"
    }
   ],
   "source": [
    "vectorizer = TfidfVectorizer(\n",
    "            tokenizer=lambda x: x,\n",
    "            preprocessor=lambda x: x,\n",
    "            token_pattern=None,\n",
    "            strip_accents='unicode',\n",
    "            analyzer = 'word',\n",
    "            ngram_range=(3,6),\n",
    "            min_df=0.05,\n",
    "            max_df=0.95,\n",
    "            sublinear_tf=True,\n",
    ")\n",
    "\n",
    "train_tfid = vectorizer.fit_transform([i for i in train['full_text']])\n",
    "dense_matrix = train_tfid.toarray()\n",
    "df = pd.DataFrame(dense_matrix)\n",
    "tfid_columns = [ f'tfid_{i}' for i in range(len(df.columns))]\n",
    "df.columns = tfid_columns\n",
    "df['essay_id'] = train_feats['essay_id']\n",
    "train_feats = train_feats.merge(df, on='essay_id', how='left')\n",
    "feature_names = list(filter(lambda x: x not in ['essay_id','score'], train_feats.columns))\n",
    "print('Number of Features: ',len(feature_names))\n",
    "train_feats.head(3)"
   ]
  },
  {
   "cell_type": "markdown",
   "id": "77427393",
   "metadata": {
    "papermill": {
     "duration": 0.012063,
     "end_time": "2024-04-21T13:47:39.680551",
     "exception": false,
     "start_time": "2024-04-21T13:47:39.668488",
     "status": "completed"
    },
    "tags": []
   },
   "source": [
    "### 5.CountVectorizer Features"
   ]
  },
  {
   "cell_type": "code",
   "execution_count": 13,
   "id": "df0d8800",
   "metadata": {
    "execution": {
     "iopub.execute_input": "2024-04-21T13:47:39.706305Z",
     "iopub.status.busy": "2024-04-21T13:47:39.706004Z",
     "iopub.status.idle": "2024-04-21T13:49:53.618466Z",
     "shell.execute_reply": "2024-04-21T13:49:53.617601Z"
    },
    "papermill": {
     "duration": 133.928185,
     "end_time": "2024-04-21T13:49:53.621065",
     "exception": false,
     "start_time": "2024-04-21T13:47:39.692880",
     "status": "completed"
    },
    "tags": []
   },
   "outputs": [],
   "source": [
    "vectorizer_cnt = CountVectorizer(\n",
    "            tokenizer=lambda x: x,\n",
    "            preprocessor=lambda x: x,\n",
    "            token_pattern=None,\n",
    "            strip_accents='unicode',\n",
    "            analyzer = 'word',\n",
    "            ngram_range=(3,5),\n",
    "            min_df=0.10,\n",
    "            max_df=0.85,\n",
    ")\n",
    "train_tfid = vectorizer_cnt.fit_transform([i for i in train['full_text']])\n",
    "dense_matrix = train_tfid.toarray()\n",
    "df = pd.DataFrame(dense_matrix)\n",
    "tfid_columns = [ f'tfid_cnt_{i}' for i in range(len(df.columns))]\n",
    "df.columns = tfid_columns\n",
    "df['essay_id'] = train_feats['essay_id']\n",
    "train_feats = train_feats.merge(df, on='essay_id', how='left')"
   ]
  },
  {
   "cell_type": "markdown",
   "id": "4467e555",
   "metadata": {
    "papermill": {
     "duration": 0.012605,
     "end_time": "2024-04-21T13:49:53.647532",
     "exception": false,
     "start_time": "2024-04-21T13:49:53.634927",
     "status": "completed"
    },
    "tags": []
   },
   "source": [
    "### 6.Meta Features(deberta-v3-large)"
   ]
  },
  {
   "cell_type": "code",
   "execution_count": 14,
   "id": "64444385",
   "metadata": {
    "execution": {
     "iopub.execute_input": "2024-04-21T13:49:53.675738Z",
     "iopub.status.busy": "2024-04-21T13:49:53.675144Z",
     "iopub.status.idle": "2024-04-21T13:49:53.720776Z",
     "shell.execute_reply": "2024-04-21T13:49:53.719847Z"
    },
    "papermill": {
     "duration": 0.062284,
     "end_time": "2024-04-21T13:49:53.722801",
     "exception": false,
     "start_time": "2024-04-21T13:49:53.660517",
     "status": "completed"
    },
    "tags": []
   },
   "outputs": [
    {
     "name": "stdout",
     "output_type": "stream",
     "text": [
      "(17307, 6) (17307, 27057)\n",
      "Features Number:  27061\n"
     ]
    },
    {
     "data": {
      "text/plain": [
       "(17307, 27063)"
      ]
     },
     "execution_count": 14,
     "metadata": {},
     "output_type": "execute_result"
    }
   ],
   "source": [
    "import joblib\n",
    "\n",
    "deberta_oof = joblib.load('/kaggle/input/aes2-400-20240419134941/oof.pkl')\n",
    "print(deberta_oof.shape, train_feats.shape)\n",
    "\n",
    "for i in range(6):\n",
    "    train_feats[f'deberta_oof_{i}'] = deberta_oof[:, i]\n",
    "\n",
    "feature_names = list(filter(lambda x: x not in ['essay_id','score'], train_feats.columns))\n",
    "print('Features Number: ',len(feature_names))    \n",
    "\n",
    "train_feats.shape"
   ]
  },
  {
   "cell_type": "markdown",
   "id": "206123cd",
   "metadata": {
    "papermill": {
     "duration": 0.012579,
     "end_time": "2024-04-21T13:49:53.747997",
     "exception": false,
     "start_time": "2024-04-21T13:49:53.735418",
     "status": "completed"
    },
    "tags": []
   },
   "source": [
    "# **Model training**"
   ]
  },
  {
   "cell_type": "code",
   "execution_count": 15,
   "id": "b9f7cbdd",
   "metadata": {
    "execution": {
     "iopub.execute_input": "2024-04-21T13:49:53.774957Z",
     "iopub.status.busy": "2024-04-21T13:49:53.774449Z",
     "iopub.status.idle": "2024-04-21T13:49:53.781805Z",
     "shell.execute_reply": "2024-04-21T13:49:53.780991Z"
    },
    "papermill": {
     "duration": 0.0229,
     "end_time": "2024-04-21T13:49:53.783711",
     "exception": false,
     "start_time": "2024-04-21T13:49:53.760811",
     "status": "completed"
    },
    "tags": []
   },
   "outputs": [],
   "source": [
    "def quadratic_weighted_kappa(y_true, y_pred):\n",
    "    y_true = y_true + a\n",
    "    y_pred = (y_pred + a).clip(1, 6).round()\n",
    "    qwk = cohen_kappa_score(y_true, y_pred, weights=\"quadratic\")\n",
    "    return 'QWK', qwk, True\n",
    "def qwk_obj(y_true, y_pred):\n",
    "    labels = y_true + a\n",
    "    preds = y_pred + a\n",
    "    preds = preds.clip(1, 6)\n",
    "    f = 1/2*np.sum((preds-labels)**2)\n",
    "    g = 1/2*np.sum((preds-a)**2+b)\n",
    "    df = preds - labels\n",
    "    dg = preds - a\n",
    "    grad = (df/g - f*dg/g**2)*len(labels)\n",
    "    hess = np.ones(len(labels))\n",
    "    return grad, hess\n",
    "a = 2.998\n",
    "b = 1.092"
   ]
  },
  {
   "cell_type": "code",
   "execution_count": 16,
   "id": "2362a2a4",
   "metadata": {
    "execution": {
     "iopub.execute_input": "2024-04-21T13:49:53.810113Z",
     "iopub.status.busy": "2024-04-21T13:49:53.809847Z",
     "iopub.status.idle": "2024-04-21T13:49:56.265368Z",
     "shell.execute_reply": "2024-04-21T13:49:56.264333Z"
    },
    "papermill": {
     "duration": 2.471262,
     "end_time": "2024-04-21T13:49:56.267901",
     "exception": false,
     "start_time": "2024-04-21T13:49:53.796639",
     "status": "completed"
    },
    "tags": []
   },
   "outputs": [],
   "source": [
    "X = train_feats[feature_names].astype(np.float32).values\n",
    "\n",
    "y_split = train_feats['score'].astype(int).values\n",
    "y = train_feats['score'].astype(np.float32).values-a\n",
    "oof = train_feats['score'].astype(int).values"
   ]
  },
  {
   "cell_type": "code",
   "execution_count": 17,
   "id": "3f0e014e",
   "metadata": {
    "execution": {
     "iopub.execute_input": "2024-04-21T13:49:56.294739Z",
     "iopub.status.busy": "2024-04-21T13:49:56.294208Z",
     "iopub.status.idle": "2024-04-21T13:49:56.299597Z",
     "shell.execute_reply": "2024-04-21T13:49:56.298793Z"
    },
    "papermill": {
     "duration": 0.02059,
     "end_time": "2024-04-21T13:49:56.301389",
     "exception": false,
     "start_time": "2024-04-21T13:49:56.280799",
     "status": "completed"
    },
    "tags": []
   },
   "outputs": [
    {
     "data": {
      "text/plain": [
       "27061"
      ]
     },
     "execution_count": 17,
     "metadata": {},
     "output_type": "execute_result"
    }
   ],
   "source": [
    "len(feature_names)"
   ]
  },
  {
   "cell_type": "markdown",
   "id": "cb699321",
   "metadata": {
    "papermill": {
     "duration": 0.012864,
     "end_time": "2024-04-21T13:49:56.327065",
     "exception": false,
     "start_time": "2024-04-21T13:49:56.314201",
     "status": "completed"
    },
    "tags": []
   },
   "source": [
    "# **Let's use cross-validation**"
   ]
  },
  {
   "cell_type": "code",
   "execution_count": 18,
   "id": "7675b627",
   "metadata": {
    "execution": {
     "iopub.execute_input": "2024-04-21T13:49:56.353934Z",
     "iopub.status.busy": "2024-04-21T13:49:56.353638Z",
     "iopub.status.idle": "2024-04-21T14:52:05.738581Z",
     "shell.execute_reply": "2024-04-21T14:52:05.737610Z"
    },
    "papermill": {
     "duration": 3729.40097,
     "end_time": "2024-04-21T14:52:05.740824",
     "exception": false,
     "start_time": "2024-04-21T13:49:56.339854",
     "status": "completed"
    },
    "tags": []
   },
   "outputs": [
    {
     "name": "stdout",
     "output_type": "stream",
     "text": [
      "fold 1\n",
      "[LightGBM] [Info] Using self-defined objective function\n",
      "Training until validation scores don't improve for 75 rounds\n",
      "[25]\ttrain's QWK: 0.828263\tvalid's QWK: 0.829386\n",
      "[50]\ttrain's QWK: 0.840795\tvalid's QWK: 0.833453\n",
      "[75]\ttrain's QWK: 0.845969\tvalid's QWK: 0.833988\n",
      "[100]\ttrain's QWK: 0.850427\tvalid's QWK: 0.833279\n",
      "[125]\ttrain's QWK: 0.855198\tvalid's QWK: 0.834815\n",
      "[LightGBM] [Warning] No further splits with positive gain, best gain: -inf\n",
      "[150]\ttrain's QWK: 0.858716\tvalid's QWK: 0.838074\n",
      "[175]\ttrain's QWK: 0.861572\tvalid's QWK: 0.837643\n",
      "[200]\ttrain's QWK: 0.865221\tvalid's QWK: 0.837409\n",
      "[LightGBM] [Warning] No further splits with positive gain, best gain: -inf\n",
      "[225]\ttrain's QWK: 0.8684\tvalid's QWK: 0.834224\n",
      "[LightGBM] [Warning] No further splits with positive gain, best gain: -inf\n",
      "Early stopping, best iteration is:\n",
      "[174]\ttrain's QWK: 0.861722\tvalid's QWK: 0.838844\n",
      "Evaluated only: QWK\n"
     ]
    },
    {
     "data": {
      "image/png": "[encoded data removed]",
      "text/plain": [
       "<Figure size 640x480 with 2 Axes>"
      ]
     },
     "metadata": {},
     "output_type": "display_data"
    },
    {
     "name": "stdout",
     "output_type": "stream",
     "text": [
      "F1 score across fold: 0.6680090508269425\n",
      "Cohen kappa score across fold: 0.8388439898578417\n",
      "fold 2\n",
      "[LightGBM] [Info] Using self-defined objective function\n",
      "Training until validation scores don't improve for 75 rounds\n",
      "[25]\ttrain's QWK: 0.827213\tvalid's QWK: 0.823321\n",
      "[50]\ttrain's QWK: 0.837526\tvalid's QWK: 0.83385\n",
      "[75]\ttrain's QWK: 0.843346\tvalid's QWK: 0.837065\n",
      "[LightGBM] [Warning] No further splits with positive gain, best gain: -inf\n",
      "[100]\ttrain's QWK: 0.849128\tvalid's QWK: 0.837375\n",
      "[125]\ttrain's QWK: 0.853771\tvalid's QWK: 0.837619\n",
      "[150]\ttrain's QWK: 0.857684\tvalid's QWK: 0.837623\n",
      "[175]\ttrain's QWK: 0.861719\tvalid's QWK: 0.837104\n",
      "[LightGBM] [Warning] No further splits with positive gain, best gain: -inf\n",
      "[200]\ttrain's QWK: 0.864635\tvalid's QWK: 0.838278\n",
      "[225]\ttrain's QWK: 0.868455\tvalid's QWK: 0.840601\n",
      "[LightGBM] [Warning] No further splits with positive gain, best gain: -inf\n",
      "[250]\ttrain's QWK: 0.8718\tvalid's QWK: 0.840683\n",
      "[LightGBM] [Warning] No further splits with positive gain, best gain: -inf\n",
      "[LightGBM] [Warning] No further splits with positive gain, best gain: -inf\n",
      "[275]\ttrain's QWK: 0.875408\tvalid's QWK: 0.840609\n",
      "[300]\ttrain's QWK: 0.878457\tvalid's QWK: 0.841027\n",
      "Early stopping, best iteration is:\n",
      "[229]\ttrain's QWK: 0.869297\tvalid's QWK: 0.842264\n",
      "Evaluated only: QWK\n"
     ]
    },
    {
     "data": {
      "image/png": "[encoded data removed]",
      "text/plain": [
       "<Figure size 640x480 with 2 Axes>"
      ]
     },
     "metadata": {},
     "output_type": "display_data"
    },
    {
     "name": "stdout",
     "output_type": "stream",
     "text": [
      "F1 score across fold: 0.6631300639447743\n",
      "Cohen kappa score across fold: 0.8422644538050307\n",
      "fold 3\n",
      "[LightGBM] [Info] Using self-defined objective function\n",
      "Training until validation scores don't improve for 75 rounds\n",
      "[25]\ttrain's QWK: 0.825351\tvalid's QWK: 0.812882\n",
      "[50]\ttrain's QWK: 0.839701\tvalid's QWK: 0.826265\n",
      "[75]\ttrain's QWK: 0.846067\tvalid's QWK: 0.825764\n",
      "[100]\ttrain's QWK: 0.849888\tvalid's QWK: 0.825228\n",
      "[LightGBM] [Warning] No further splits with positive gain, best gain: -inf\n",
      "[125]\ttrain's QWK: 0.853395\tvalid's QWK: 0.826421\n",
      "Early stopping, best iteration is:\n",
      "[55]\ttrain's QWK: 0.841401\tvalid's QWK: 0.829418\n",
      "Evaluated only: QWK\n"
     ]
    },
    {
     "data": {
      "image/png": "[encoded data removed]",
      "text/plain": [
       "<Figure size 640x480 with 2 Axes>"
      ]
     },
     "metadata": {},
     "output_type": "display_data"
    },
    {
     "name": "stdout",
     "output_type": "stream",
     "text": [
      "F1 score across fold: 0.6532807394892924\n",
      "Cohen kappa score across fold: 0.8294177861706727\n",
      "fold 4\n",
      "[LightGBM] [Info] Using self-defined objective function\n",
      "Training until validation scores don't improve for 75 rounds\n",
      "[25]\ttrain's QWK: 0.829628\tvalid's QWK: 0.825224\n",
      "[50]\ttrain's QWK: 0.841491\tvalid's QWK: 0.832356\n",
      "[75]\ttrain's QWK: 0.847878\tvalid's QWK: 0.83109\n",
      "[LightGBM] [Warning] No further splits with positive gain, best gain: -inf\n",
      "[100]\ttrain's QWK: 0.851495\tvalid's QWK: 0.831442\n",
      "[125]\ttrain's QWK: 0.855021\tvalid's QWK: 0.830173\n",
      "[150]\ttrain's QWK: 0.858774\tvalid's QWK: 0.831115\n",
      "Early stopping, best iteration is:\n",
      "[85]\ttrain's QWK: 0.849454\tvalid's QWK: 0.833241\n",
      "Evaluated only: QWK\n"
     ]
    },
    {
     "data": {
      "image/png": "[encoded data removed]",
      "text/plain": [
       "<Figure size 640x480 with 2 Axes>"
      ]
     },
     "metadata": {},
     "output_type": "display_data"
    },
    {
     "name": "stdout",
     "output_type": "stream",
     "text": [
      "F1 score across fold: 0.6545900850626162\n",
      "Cohen kappa score across fold: 0.8332405944296766\n",
      "fold 5\n",
      "[LightGBM] [Info] Using self-defined objective function\n",
      "Training until validation scores don't improve for 75 rounds\n",
      "[25]\ttrain's QWK: 0.828592\tvalid's QWK: 0.814616\n",
      "[50]\ttrain's QWK: 0.840861\tvalid's QWK: 0.821073\n",
      "[75]\ttrain's QWK: 0.845569\tvalid's QWK: 0.821918\n",
      "[LightGBM] [Warning] No further splits with positive gain, best gain: -inf\n",
      "[LightGBM] [Warning] No further splits with positive gain, best gain: -inf\n",
      "[100]\ttrain's QWK: 0.850843\tvalid's QWK: 0.825886\n",
      "[LightGBM] [Warning] No further splits with positive gain, best gain: -inf\n",
      "[125]\ttrain's QWK: 0.854154\tvalid's QWK: 0.82365\n",
      "[LightGBM] [Warning] No further splits with positive gain, best gain: -inf\n",
      "[150]\ttrain's QWK: 0.858141\tvalid's QWK: 0.821812\n",
      "Early stopping, best iteration is:\n",
      "[90]\ttrain's QWK: 0.848973\tvalid's QWK: 0.826648\n",
      "Evaluated only: QWK\n"
     ]
    },
    {
     "data": {
      "image/png": "[encoded data removed]",
      "text/plain": [
       "<Figure size 640x480 with 2 Axes>"
      ]
     },
     "metadata": {},
     "output_type": "display_data"
    },
    {
     "name": "stdout",
     "output_type": "stream",
     "text": [
      "F1 score across fold: 0.6634727361491844\n",
      "Cohen kappa score across fold: 0.8266477847346915\n",
      "fold 6\n",
      "[LightGBM] [Info] Using self-defined objective function\n",
      "Training until validation scores don't improve for 75 rounds\n",
      "[25]\ttrain's QWK: 0.829033\tvalid's QWK: 0.831409\n",
      "[50]\ttrain's QWK: 0.840978\tvalid's QWK: 0.842165\n",
      "[75]\ttrain's QWK: 0.846237\tvalid's QWK: 0.844812\n",
      "[LightGBM] [Warning] No further splits with positive gain, best gain: -inf\n",
      "[100]\ttrain's QWK: 0.850271\tvalid's QWK: 0.845752\n",
      "[125]\ttrain's QWK: 0.853612\tvalid's QWK: 0.845629\n",
      "[150]\ttrain's QWK: 0.856544\tvalid's QWK: 0.848004\n",
      "[LightGBM] [Warning] No further splits with positive gain, best gain: -inf\n",
      "[175]\ttrain's QWK: 0.859935\tvalid's QWK: 0.849938\n",
      "[200]\ttrain's QWK: 0.863315\tvalid's QWK: 0.851228\n",
      "[225]\ttrain's QWK: 0.866769\tvalid's QWK: 0.850333\n",
      "[LightGBM] [Warning] No further splits with positive gain, best gain: -inf\n",
      "[250]\ttrain's QWK: 0.869282\tvalid's QWK: 0.849291\n",
      "[LightGBM] [Warning] No further splits with positive gain, best gain: -inf\n",
      "[275]\ttrain's QWK: 0.872295\tvalid's QWK: 0.850953\n",
      "Early stopping, best iteration is:\n",
      "[208]\ttrain's QWK: 0.864347\tvalid's QWK: 0.852146\n",
      "Evaluated only: QWK\n"
     ]
    },
    {
     "data": {
      "image/png": "[encoded data removed]",
      "text/plain": [
       "<Figure size 640x480 with 2 Axes>"
      ]
     },
     "metadata": {},
     "output_type": "display_data"
    },
    {
     "name": "stdout",
     "output_type": "stream",
     "text": [
      "F1 score across fold: 0.7022689147714724\n",
      "Cohen kappa score across fold: 0.8521457530254404\n",
      "fold 7\n",
      "[LightGBM] [Info] Using self-defined objective function\n",
      "Training until validation scores don't improve for 75 rounds\n",
      "[25]\ttrain's QWK: 0.830986\tvalid's QWK: 0.809796\n",
      "[50]\ttrain's QWK: 0.842624\tvalid's QWK: 0.822591\n",
      "[75]\ttrain's QWK: 0.848202\tvalid's QWK: 0.826794\n",
      "[LightGBM] [Warning] No further splits with positive gain, best gain: -inf\n",
      "[100]\ttrain's QWK: 0.851974\tvalid's QWK: 0.826177\n",
      "[LightGBM] [Warning] No further splits with positive gain, best gain: -inf\n",
      "[125]\ttrain's QWK: 0.855431\tvalid's QWK: 0.828678\n",
      "[LightGBM] [Warning] No further splits with positive gain, best gain: -inf\n",
      "[150]\ttrain's QWK: 0.858831\tvalid's QWK: 0.827619\n",
      "[LightGBM] [Warning] No further splits with positive gain, best gain: -inf\n",
      "[175]\ttrain's QWK: 0.862004\tvalid's QWK: 0.827195\n",
      "[LightGBM] [Warning] No further splits with positive gain, best gain: -inf\n",
      "[LightGBM] [Warning] No further splits with positive gain, best gain: -inf\n",
      "[200]\ttrain's QWK: 0.865548\tvalid's QWK: 0.827817\n",
      "[225]\ttrain's QWK: 0.869014\tvalid's QWK: 0.822961\n",
      "Early stopping, best iteration is:\n",
      "[156]\ttrain's QWK: 0.859772\tvalid's QWK: 0.829717\n",
      "Evaluated only: QWK\n"
     ]
    },
    {
     "data": {
      "image/png": "[encoded data removed]",
      "text/plain": [
       "<Figure size 640x480 with 2 Axes>"
      ]
     },
     "metadata": {},
     "output_type": "display_data"
    },
    {
     "name": "stdout",
     "output_type": "stream",
     "text": [
      "F1 score across fold: 0.6650344916613465\n",
      "Cohen kappa score across fold: 0.8297169401129665\n",
      "fold 8\n",
      "[LightGBM] [Info] Using self-defined objective function\n",
      "Training until validation scores don't improve for 75 rounds\n",
      "[25]\ttrain's QWK: 0.831471\tvalid's QWK: 0.824473\n",
      "[50]\ttrain's QWK: 0.842163\tvalid's QWK: 0.831638\n",
      "[75]\ttrain's QWK: 0.847543\tvalid's QWK: 0.831455\n",
      "[100]\ttrain's QWK: 0.851682\tvalid's QWK: 0.834511\n",
      "[125]\ttrain's QWK: 0.855432\tvalid's QWK: 0.830951\n",
      "[150]\ttrain's QWK: 0.858406\tvalid's QWK: 0.833073\n",
      "[LightGBM] [Warning] No further splits with positive gain, best gain: -inf\n",
      "[175]\ttrain's QWK: 0.862019\tvalid's QWK: 0.839327\n",
      "[200]\ttrain's QWK: 0.865245\tvalid's QWK: 0.837876\n",
      "[225]\ttrain's QWK: 0.867979\tvalid's QWK: 0.838906\n",
      "[LightGBM] [Warning] No further splits with positive gain, best gain: -inf\n",
      "[250]\ttrain's QWK: 0.87128\tvalid's QWK: 0.838703\n",
      "[LightGBM] [Warning] No further splits with positive gain, best gain: -inf\n",
      "[275]\ttrain's QWK: 0.874428\tvalid's QWK: 0.838801\n",
      "Early stopping, best iteration is:\n",
      "[208]\ttrain's QWK: 0.866128\tvalid's QWK: 0.839618\n",
      "Evaluated only: QWK\n"
     ]
    },
    {
     "data": {
      "image/png": "[encoded data removed]",
      "text/plain": [
       "<Figure size 640x480 with 2 Axes>"
      ]
     },
     "metadata": {},
     "output_type": "display_data"
    },
    {
     "name": "stdout",
     "output_type": "stream",
     "text": [
      "F1 score across fold: 0.6919791646085747\n",
      "Cohen kappa score across fold: 0.8396178949035061\n",
      "fold 9\n",
      "[LightGBM] [Info] Using self-defined objective function\n",
      "Training until validation scores don't improve for 75 rounds\n",
      "[25]\ttrain's QWK: 0.830826\tvalid's QWK: 0.805938\n",
      "[50]\ttrain's QWK: 0.841859\tvalid's QWK: 0.816492\n",
      "[75]\ttrain's QWK: 0.84776\tvalid's QWK: 0.821801\n",
      "[100]\ttrain's QWK: 0.852477\tvalid's QWK: 0.826947\n",
      "[LightGBM] [Warning] No further splits with positive gain, best gain: -inf\n",
      "[125]\ttrain's QWK: 0.856556\tvalid's QWK: 0.832379\n",
      "[LightGBM] [Warning] No further splits with positive gain, best gain: -inf\n",
      "[LightGBM] [Warning] No further splits with positive gain, best gain: -inf\n",
      "[150]\ttrain's QWK: 0.861265\tvalid's QWK: 0.832479\n",
      "[175]\ttrain's QWK: 0.864637\tvalid's QWK: 0.830751\n",
      "[200]\ttrain's QWK: 0.867862\tvalid's QWK: 0.829811\n",
      "Early stopping, best iteration is:\n",
      "[129]\ttrain's QWK: 0.857625\tvalid's QWK: 0.833328\n",
      "Evaluated only: QWK\n"
     ]
    },
    {
     "data": {
      "image/png": "[encoded data removed]",
      "text/plain": [
       "<Figure size 640x480 with 2 Axes>"
      ]
     },
     "metadata": {},
     "output_type": "display_data"
    },
    {
     "name": "stdout",
     "output_type": "stream",
     "text": [
      "F1 score across fold: 0.6687976216575475\n",
      "Cohen kappa score across fold: 0.8333284160995266\n",
      "fold 10\n",
      "[LightGBM] [Info] Using self-defined objective function\n",
      "Training until validation scores don't improve for 75 rounds\n",
      "[25]\ttrain's QWK: 0.828508\tvalid's QWK: 0.819429\n",
      "[50]\ttrain's QWK: 0.842067\tvalid's QWK: 0.82462\n",
      "[75]\ttrain's QWK: 0.847285\tvalid's QWK: 0.830764\n",
      "[100]\ttrain's QWK: 0.851943\tvalid's QWK: 0.833199\n",
      "[LightGBM] [Warning] No further splits with positive gain, best gain: -inf\n",
      "[125]\ttrain's QWK: 0.856592\tvalid's QWK: 0.835811\n",
      "[150]\ttrain's QWK: 0.861165\tvalid's QWK: 0.836146\n",
      "[LightGBM] [Warning] No further splits with positive gain, best gain: -inf\n",
      "[175]\ttrain's QWK: 0.864441\tvalid's QWK: 0.836943\n",
      "[LightGBM] [Warning] No further splits with positive gain, best gain: -inf\n",
      "[200]\ttrain's QWK: 0.866988\tvalid's QWK: 0.837235\n",
      "[225]\ttrain's QWK: 0.870639\tvalid's QWK: 0.837309\n",
      "[250]\ttrain's QWK: 0.873163\tvalid's QWK: 0.840728\n",
      "[LightGBM] [Warning] No further splits with positive gain, best gain: -inf\n",
      "[LightGBM] [Warning] No further splits with positive gain, best gain: -inf\n",
      "[LightGBM] [Warning] No further splits with positive gain, best gain: -inf\n",
      "[275]\ttrain's QWK: 0.875716\tvalid's QWK: 0.838479\n",
      "[LightGBM] [Warning] No further splits with positive gain, best gain: -inf\n",
      "[LightGBM] [Warning] No further splits with positive gain, best gain: -inf\n",
      "[300]\ttrain's QWK: 0.878765\tvalid's QWK: 0.837457\n",
      "[325]\ttrain's QWK: 0.881506\tvalid's QWK: 0.833823\n",
      "Early stopping, best iteration is:\n",
      "[252]\ttrain's QWK: 0.873482\tvalid's QWK: 0.841055\n",
      "Evaluated only: QWK\n"
     ]
    },
    {
     "data": {
      "image/png": "[encoded data removed]",
      "text/plain": [
       "<Figure size 640x480 with 2 Axes>"
      ]
     },
     "metadata": {},
     "output_type": "display_data"
    },
    {
     "name": "stdout",
     "output_type": "stream",
     "text": [
      "F1 score across fold: 0.6812685196738361\n",
      "Cohen kappa score across fold: 0.8410550214500877\n",
      "fold 11\n",
      "[LightGBM] [Info] Using self-defined objective function\n",
      "Training until validation scores don't improve for 75 rounds\n",
      "[25]\ttrain's QWK: 0.830826\tvalid's QWK: 0.824295\n",
      "[50]\ttrain's QWK: 0.842625\tvalid's QWK: 0.838077\n",
      "[75]\ttrain's QWK: 0.84752\tvalid's QWK: 0.837842\n",
      "[100]\ttrain's QWK: 0.851781\tvalid's QWK: 0.839441\n",
      "[LightGBM] [Warning] No further splits with positive gain, best gain: -inf\n",
      "[125]\ttrain's QWK: 0.855829\tvalid's QWK: 0.841355\n",
      "[150]\ttrain's QWK: 0.859566\tvalid's QWK: 0.836063\n",
      "[175]\ttrain's QWK: 0.863172\tvalid's QWK: 0.837721\n",
      "[LightGBM] [Warning] No further splits with positive gain, best gain: -inf\n",
      "[LightGBM] [Warning] No further splits with positive gain, best gain: -inf\n",
      "[200]\ttrain's QWK: 0.867211\tvalid's QWK: 0.828929\n",
      "Early stopping, best iteration is:\n",
      "[126]\ttrain's QWK: 0.856016\tvalid's QWK: 0.841801\n",
      "Evaluated only: QWK\n"
     ]
    },
    {
     "data": {
      "image/png": "[encoded data removed]",
      "text/plain": [
       "<Figure size 640x480 with 2 Axes>"
      ]
     },
     "metadata": {},
     "output_type": "display_data"
    },
    {
     "name": "stdout",
     "output_type": "stream",
     "text": [
      "F1 score across fold: 0.6798893739401428\n",
      "Cohen kappa score across fold: 0.8418008376902388\n",
      "fold 12\n",
      "[LightGBM] [Info] Using self-defined objective function\n",
      "Training until validation scores don't improve for 75 rounds\n",
      "[25]\ttrain's QWK: 0.828284\tvalid's QWK: 0.828624\n",
      "[50]\ttrain's QWK: 0.840625\tvalid's QWK: 0.831384\n",
      "[75]\ttrain's QWK: 0.846207\tvalid's QWK: 0.833613\n",
      "[100]\ttrain's QWK: 0.850574\tvalid's QWK: 0.832016\n",
      "[125]\ttrain's QWK: 0.854619\tvalid's QWK: 0.832394\n",
      "Early stopping, best iteration is:\n",
      "[72]\ttrain's QWK: 0.845553\tvalid's QWK: 0.834619\n",
      "Evaluated only: QWK\n"
     ]
    },
    {
     "data": {
      "image/png": "[encoded data removed]",
      "text/plain": [
       "<Figure size 640x480 with 2 Axes>"
      ]
     },
     "metadata": {},
     "output_type": "display_data"
    },
    {
     "name": "stdout",
     "output_type": "stream",
     "text": [
      "F1 score across fold: 0.6672439739881629\n",
      "Cohen kappa score across fold: 0.8346190285630244\n",
      "fold 13\n",
      "[LightGBM] [Info] Using self-defined objective function\n",
      "Training until validation scores don't improve for 75 rounds\n",
      "[25]\ttrain's QWK: 0.829108\tvalid's QWK: 0.82148\n",
      "[50]\ttrain's QWK: 0.842012\tvalid's QWK: 0.824696\n",
      "[75]\ttrain's QWK: 0.847714\tvalid's QWK: 0.824507\n",
      "[100]\ttrain's QWK: 0.85169\tvalid's QWK: 0.824803\n",
      "Early stopping, best iteration is:\n",
      "[44]\ttrain's QWK: 0.84039\tvalid's QWK: 0.826482\n",
      "Evaluated only: QWK\n"
     ]
    },
    {
     "data": {
      "image/png": "[encoded data removed]",
      "text/plain": [
       "<Figure size 640x480 with 2 Axes>"
      ]
     },
     "metadata": {},
     "output_type": "display_data"
    },
    {
     "name": "stdout",
     "output_type": "stream",
     "text": [
      "F1 score across fold: 0.6452049151383681\n",
      "Cohen kappa score across fold: 0.8264822499217439\n",
      "fold 14\n",
      "[LightGBM] [Info] Using self-defined objective function\n",
      "Training until validation scores don't improve for 75 rounds\n",
      "[25]\ttrain's QWK: 0.82612\tvalid's QWK: 0.838373\n",
      "[50]\ttrain's QWK: 0.839238\tvalid's QWK: 0.8461\n",
      "[75]\ttrain's QWK: 0.845403\tvalid's QWK: 0.848259\n",
      "[100]\ttrain's QWK: 0.849518\tvalid's QWK: 0.846783\n",
      "[LightGBM] [Warning] No further splits with positive gain, best gain: -inf\n",
      "[125]\ttrain's QWK: 0.852916\tvalid's QWK: 0.847093\n",
      "[150]\ttrain's QWK: 0.857269\tvalid's QWK: 0.844265\n",
      "Early stopping, best iteration is:\n",
      "[81]\ttrain's QWK: 0.846486\tvalid's QWK: 0.848816\n",
      "Evaluated only: QWK\n"
     ]
    },
    {
     "data": {
      "image/png": "[encoded data removed]",
      "text/plain": [
       "<Figure size 640x480 with 2 Axes>"
      ]
     },
     "metadata": {},
     "output_type": "display_data"
    },
    {
     "name": "stdout",
     "output_type": "stream",
     "text": [
      "F1 score across fold: 0.6948555651127197\n",
      "Cohen kappa score across fold: 0.8488155868945764\n",
      "fold 15\n",
      "[LightGBM] [Info] Using self-defined objective function\n",
      "Training until validation scores don't improve for 75 rounds\n",
      "[25]\ttrain's QWK: 0.82964\tvalid's QWK: 0.849419\n",
      "[50]\ttrain's QWK: 0.842198\tvalid's QWK: 0.854806\n",
      "[75]\ttrain's QWK: 0.847094\tvalid's QWK: 0.854461\n",
      "[LightGBM] [Warning] No further splits with positive gain, best gain: -inf\n",
      "[100]\ttrain's QWK: 0.850975\tvalid's QWK: 0.850757\n",
      "[LightGBM] [Warning] No further splits with positive gain, best gain: -inf\n",
      "[125]\ttrain's QWK: 0.854766\tvalid's QWK: 0.851407\n",
      "Early stopping, best iteration is:\n",
      "[50]\ttrain's QWK: 0.842198\tvalid's QWK: 0.854806\n",
      "Evaluated only: QWK\n"
     ]
    },
    {
     "data": {
      "image/png": "[encoded data removed]",
      "text/plain": [
       "<Figure size 640x480 with 2 Axes>"
      ]
     },
     "metadata": {},
     "output_type": "display_data"
    },
    {
     "name": "stdout",
     "output_type": "stream",
     "text": [
      "F1 score across fold: 0.7051445101047684\n",
      "Cohen kappa score across fold: 0.8548061054738503\n",
      "Mean F1 score across 15 folds: 0.6736113150753166\n",
      "Mean Cohen kappa score across 15 folds: 0.8381868295421915\n"
     ]
    }
   ],
   "source": [
    "n_splits = 15\n",
    "\n",
    "skf = StratifiedKFold(n_splits=n_splits, shuffle=True, random_state=0)\n",
    "\n",
    "f1_scores = []\n",
    "kappa_scores = []\n",
    "models = []\n",
    "predictions = []\n",
    "callbacks = [log_evaluation(period=25), early_stopping(stopping_rounds=75,first_metric_only=True)]\n",
    "\n",
    "i=1\n",
    "for train_index, test_index in skf.split(X, y_split):\n",
    "   \n",
    "    print('fold',i)\n",
    "    X_train_fold, X_test_fold = X[train_index], X[test_index]\n",
    "    \n",
    "   \n",
    "    y_train_fold, y_test_fold, y_test_fold_int = y[train_index], y[test_index], y_split[test_index]\n",
    "    \n",
    "    model = lgb.LGBMRegressor(\n",
    "                objective = qwk_obj,\n",
    "                metrics = 'None',\n",
    "                learning_rate = 0.1,\n",
    "                max_depth = 5,\n",
    "                num_leaves = 10,\n",
    "                colsample_bytree=0.5,\n",
    "                reg_alpha = 0.1,\n",
    "                reg_lambda = 0.8,\n",
    "                n_estimators=1024,\n",
    "                random_state=42,\n",
    "                extra_trees=True,\n",
    "                class_weight='balanced',\n",
    "                verbosity = - 1)\n",
    "\n",
    "    predictor = model.fit(X_train_fold,\n",
    "                                  y_train_fold,\n",
    "                                  eval_names=['train', 'valid'],\n",
    "                                  eval_set=[(X_train_fold, y_train_fold), (X_test_fold, y_test_fold)],\n",
    "                                  eval_metric=quadratic_weighted_kappa,\n",
    "                                  callbacks=callbacks,)\n",
    "    models.append(predictor)\n",
    "    predictions_fold = predictor.predict(X_test_fold)\n",
    "    predictions_fold = predictions_fold + a\n",
    "    oof[test_index]=predictions_fold\n",
    "    predictions_fold = predictions_fold.clip(1, 6).round()\n",
    "    predictions.append(predictions_fold)\n",
    "    f1_fold = f1_score(y_test_fold_int, predictions_fold, average='weighted')\n",
    "    f1_scores.append(f1_fold)\n",
    "    \n",
    "    kappa_fold = cohen_kappa_score(y_test_fold_int, predictions_fold, weights='quadratic')\n",
    "    kappa_scores.append(kappa_fold)\n",
    "    \n",
    "    cm = confusion_matrix(y_test_fold_int, predictions_fold, labels=[x for x in range(1,7)])\n",
    "\n",
    "    disp = ConfusionMatrixDisplay(confusion_matrix=cm,\n",
    "                                  display_labels=[x for x in range(1,7)])\n",
    "    disp.plot()\n",
    "    plt.show()\n",
    "    print(f'F1 score across fold: {f1_fold}')\n",
    "    print(f'Cohen kappa score across fold: {kappa_fold}')\n",
    "    i+=1\n",
    "\n",
    "mean_f1_score = np.mean(f1_scores)\n",
    "mean_kappa_score = np.mean(kappa_scores)\n",
    "\n",
    "print(f'Mean F1 score across {n_splits} folds: {mean_f1_score}')\n",
    "print(f'Mean Cohen kappa score across {n_splits} folds: {mean_kappa_score}')"
   ]
  },
  {
   "cell_type": "code",
   "execution_count": 19,
   "id": "ad01cb62",
   "metadata": {
    "execution": {
     "iopub.execute_input": "2024-04-21T14:52:05.822876Z",
     "iopub.status.busy": "2024-04-21T14:52:05.822555Z",
     "iopub.status.idle": "2024-04-21T14:52:05.826415Z",
     "shell.execute_reply": "2024-04-21T14:52:05.825591Z"
    },
    "papermill": {
     "duration": 0.044916,
     "end_time": "2024-04-21T14:52:05.828217",
     "exception": false,
     "start_time": "2024-04-21T14:52:05.783301",
     "status": "completed"
    },
    "tags": []
   },
   "outputs": [],
   "source": [
    "# import pickle\n",
    "\n",
    "# with open('models.pkl', 'wb') as f:\n",
    "#     pickle.dump(models, f)"
   ]
  },
  {
   "cell_type": "code",
   "execution_count": 20,
   "id": "2437efa8",
   "metadata": {
    "execution": {
     "iopub.execute_input": "2024-04-21T14:52:05.901903Z",
     "iopub.status.busy": "2024-04-21T14:52:05.901633Z",
     "iopub.status.idle": "2024-04-21T14:52:05.905202Z",
     "shell.execute_reply": "2024-04-21T14:52:05.904390Z"
    },
    "papermill": {
     "duration": 0.04259,
     "end_time": "2024-04-21T14:52:05.907105",
     "exception": false,
     "start_time": "2024-04-21T14:52:05.864515",
     "status": "completed"
    },
    "tags": []
   },
   "outputs": [],
   "source": [
    "# with open('models.pkl', 'rb') as f:\n",
    "#     models = pickle.load(f)"
   ]
  },
  {
   "cell_type": "markdown",
   "id": "d6f3a991",
   "metadata": {
    "papermill": {
     "duration": 0.035773,
     "end_time": "2024-04-21T14:52:05.979251",
     "exception": false,
     "start_time": "2024-04-21T14:52:05.943478",
     "status": "completed"
    },
    "tags": []
   },
   "source": [
    "# **Inference**"
   ]
  },
  {
   "cell_type": "code",
   "execution_count": 21,
   "id": "450d4089",
   "metadata": {
    "execution": {
     "iopub.execute_input": "2024-04-21T14:52:06.053746Z",
     "iopub.status.busy": "2024-04-21T14:52:06.053443Z",
     "iopub.status.idle": "2024-04-21T14:52:06.371205Z",
     "shell.execute_reply": "2024-04-21T14:52:06.370267Z"
    },
    "papermill": {
     "duration": 0.358261,
     "end_time": "2024-04-21T14:52:06.373462",
     "exception": false,
     "start_time": "2024-04-21T14:52:06.015201",
     "status": "completed"
    },
    "tags": []
   },
   "outputs": [
    {
     "name": "stdout",
     "output_type": "stream",
     "text": [
      "Features number:  27061\n"
     ]
    },
    {
     "data": {
      "text/html": [
       "<div>\n",
       "<style scoped>\n",
       "    .dataframe tbody tr th:only-of-type {\n",
       "        vertical-align: middle;\n",
       "    }\n",
       "\n",
       "    .dataframe tbody tr th {\n",
       "        vertical-align: top;\n",
       "    }\n",
       "\n",
       "    .dataframe thead th {\n",
       "        text-align: right;\n",
       "    }\n",
       "</style>\n",
       "<table border=\"1\" class=\"dataframe\">\n",
       "  <thead>\n",
       "    <tr style=\"text-align: right;\">\n",
       "      <th></th>\n",
       "      <th>essay_id</th>\n",
       "      <th>paragraph_50_cnt</th>\n",
       "      <th>paragraph_75_cnt</th>\n",
       "      <th>paragraph_100_cnt</th>\n",
       "      <th>paragraph_125_cnt</th>\n",
       "      <th>paragraph_150_cnt</th>\n",
       "      <th>paragraph_175_cnt</th>\n",
       "      <th>paragraph_200_cnt</th>\n",
       "      <th>paragraph_250_cnt</th>\n",
       "      <th>paragraph_300_cnt</th>\n",
       "      <th>...</th>\n",
       "      <th>tfid_cnt_7355</th>\n",
       "      <th>tfid_cnt_7356</th>\n",
       "      <th>tfid_cnt_7357</th>\n",
       "      <th>tfid_cnt_7358</th>\n",
       "      <th>deberta_oof_0</th>\n",
       "      <th>deberta_oof_1</th>\n",
       "      <th>deberta_oof_2</th>\n",
       "      <th>deberta_oof_3</th>\n",
       "      <th>deberta_oof_4</th>\n",
       "      <th>deberta_oof_5</th>\n",
       "    </tr>\n",
       "  </thead>\n",
       "  <tbody>\n",
       "    <tr>\n",
       "      <th>0</th>\n",
       "      <td>000d118</td>\n",
       "      <td>1</td>\n",
       "      <td>1</td>\n",
       "      <td>1</td>\n",
       "      <td>1</td>\n",
       "      <td>1</td>\n",
       "      <td>1</td>\n",
       "      <td>1</td>\n",
       "      <td>1</td>\n",
       "      <td>1</td>\n",
       "      <td>...</td>\n",
       "      <td>0</td>\n",
       "      <td>0</td>\n",
       "      <td>0</td>\n",
       "      <td>0</td>\n",
       "      <td>0.005867</td>\n",
       "      <td>0.274048</td>\n",
       "      <td>0.693365</td>\n",
       "      <td>0.026059</td>\n",
       "      <td>0.000465</td>\n",
       "      <td>0.000196</td>\n",
       "    </tr>\n",
       "    <tr>\n",
       "      <th>1</th>\n",
       "      <td>000fe60</td>\n",
       "      <td>5</td>\n",
       "      <td>5</td>\n",
       "      <td>5</td>\n",
       "      <td>5</td>\n",
       "      <td>5</td>\n",
       "      <td>5</td>\n",
       "      <td>4</td>\n",
       "      <td>3</td>\n",
       "      <td>3</td>\n",
       "      <td>...</td>\n",
       "      <td>1</td>\n",
       "      <td>1</td>\n",
       "      <td>0</td>\n",
       "      <td>0</td>\n",
       "      <td>0.000463</td>\n",
       "      <td>0.034625</td>\n",
       "      <td>0.911631</td>\n",
       "      <td>0.052944</td>\n",
       "      <td>0.000277</td>\n",
       "      <td>0.000060</td>\n",
       "    </tr>\n",
       "    <tr>\n",
       "      <th>2</th>\n",
       "      <td>001ab80</td>\n",
       "      <td>4</td>\n",
       "      <td>4</td>\n",
       "      <td>4</td>\n",
       "      <td>4</td>\n",
       "      <td>4</td>\n",
       "      <td>4</td>\n",
       "      <td>4</td>\n",
       "      <td>4</td>\n",
       "      <td>4</td>\n",
       "      <td>...</td>\n",
       "      <td>0</td>\n",
       "      <td>0</td>\n",
       "      <td>0</td>\n",
       "      <td>0</td>\n",
       "      <td>0.000969</td>\n",
       "      <td>0.001600</td>\n",
       "      <td>0.018889</td>\n",
       "      <td>0.454450</td>\n",
       "      <td>0.515864</td>\n",
       "      <td>0.008228</td>\n",
       "    </tr>\n",
       "  </tbody>\n",
       "</table>\n",
       "<p>3 rows × 27062 columns</p>\n",
       "</div>"
      ],
      "text/plain": [
       "  essay_id  paragraph_50_cnt  paragraph_75_cnt  paragraph_100_cnt  \\\n",
       "0  000d118                 1                 1                  1   \n",
       "1  000fe60                 5                 5                  5   \n",
       "2  001ab80                 4                 4                  4   \n",
       "\n",
       "   paragraph_125_cnt  paragraph_150_cnt  paragraph_175_cnt  paragraph_200_cnt  \\\n",
       "0                  1                  1                  1                  1   \n",
       "1                  5                  5                  5                  4   \n",
       "2                  4                  4                  4                  4   \n",
       "\n",
       "   paragraph_250_cnt  paragraph_300_cnt  ...  tfid_cnt_7355  tfid_cnt_7356  \\\n",
       "0                  1                  1  ...              0              0   \n",
       "1                  3                  3  ...              1              1   \n",
       "2                  4                  4  ...              0              0   \n",
       "\n",
       "   tfid_cnt_7357  tfid_cnt_7358  deberta_oof_0  deberta_oof_1  deberta_oof_2  \\\n",
       "0              0              0       0.005867       0.274048       0.693365   \n",
       "1              0              0       0.000463       0.034625       0.911631   \n",
       "2              0              0       0.000969       0.001600       0.018889   \n",
       "\n",
       "   deberta_oof_3  deberta_oof_4  deberta_oof_5  \n",
       "0       0.026059       0.000465       0.000196  \n",
       "1       0.052944       0.000277       0.000060  \n",
       "2       0.454450       0.515864       0.008228  \n",
       "\n",
       "[3 rows x 27062 columns]"
      ]
     },
     "execution_count": 21,
     "metadata": {},
     "output_type": "execute_result"
    }
   ],
   "source": [
    "# Paragraph\n",
    "tmp = Paragraph_Preprocess(test)\n",
    "test_feats = Paragraph_Eng(tmp)\n",
    "# Sentence\n",
    "tmp = Sentence_Preprocess(test)\n",
    "test_feats = test_feats.merge(Sentence_Eng(tmp), on='essay_id', how='left')\n",
    "# Word\n",
    "tmp = Word_Preprocess(test)\n",
    "test_feats = test_feats.merge(Word_Eng(tmp), on='essay_id', how='left')\n",
    "\n",
    "# Tfidf\n",
    "test_tfid = vectorizer.transform([i for i in test['full_text']])\n",
    "dense_matrix = test_tfid.toarray()\n",
    "df = pd.DataFrame(dense_matrix)\n",
    "tfid_columns = [ f'tfid_{i}' for i in range(len(df.columns))]\n",
    "df.columns = tfid_columns\n",
    "df['essay_id'] = test_feats['essay_id']\n",
    "test_feats = test_feats.merge(df, on='essay_id', how='left')\n",
    "\n",
    "# CountVectorizer\n",
    "test_tfid = vectorizer_cnt.transform([i for i in test['full_text']])\n",
    "dense_matrix = test_tfid.toarray()\n",
    "df = pd.DataFrame(dense_matrix)\n",
    "tfid_columns = [ f'tfid_cnt_{i}' for i in range(len(df.columns))]\n",
    "df.columns = tfid_columns\n",
    "df['essay_id'] = test_feats['essay_id']\n",
    "test_feats = test_feats.merge(df, on='essay_id', how='left')\n",
    "\n",
    "# Meta Features(deberta-v3-large)\n",
    "for i in range(6):\n",
    "    test_feats[f'deberta_oof_{i}'] = predicted_score[:, i]\n",
    "\n",
    "# Features number\n",
    "feature_names = list(filter(lambda x: x not in ['essay_id','score'], test_feats.columns))\n",
    "print('Features number: ',len(feature_names))\n",
    "test_feats.head(3)"
   ]
  },
  {
   "cell_type": "code",
   "execution_count": 22,
   "id": "5b361b25",
   "metadata": {
    "execution": {
     "iopub.execute_input": "2024-04-21T14:52:06.448523Z",
     "iopub.status.busy": "2024-04-21T14:52:06.448203Z",
     "iopub.status.idle": "2024-04-21T14:52:07.893384Z",
     "shell.execute_reply": "2024-04-21T14:52:07.892307Z"
    },
    "papermill": {
     "duration": 1.484381,
     "end_time": "2024-04-21T14:52:07.895769",
     "exception": false,
     "start_time": "2024-04-21T14:52:06.411388",
     "status": "completed"
    },
    "tags": []
   },
   "outputs": [
    {
     "name": "stdout",
     "output_type": "stream",
     "text": [
      "[2. 3. 4.]\n"
     ]
    }
   ],
   "source": [
    "probabilities = []\n",
    "for model in models:\n",
    "    proba= model.predict(test_feats[feature_names])+ a\n",
    "    probabilities.append(proba)\n",
    "\n",
    "predictions = np.mean(probabilities, axis=0)\n",
    "\n",
    "predictions = np.round(predictions.clip(1, 6))\n",
    "\n",
    "print(predictions)"
   ]
  },
  {
   "cell_type": "code",
   "execution_count": 23,
   "id": "cdf1313b",
   "metadata": {
    "execution": {
     "iopub.execute_input": "2024-04-21T14:52:07.973387Z",
     "iopub.status.busy": "2024-04-21T14:52:07.972643Z",
     "iopub.status.idle": "2024-04-21T14:52:07.995040Z",
     "shell.execute_reply": "2024-04-21T14:52:07.994168Z"
    },
    "papermill": {
     "duration": 0.061971,
     "end_time": "2024-04-21T14:52:07.996927",
     "exception": false,
     "start_time": "2024-04-21T14:52:07.934956",
     "status": "completed"
    },
    "tags": []
   },
   "outputs": [
    {
     "data": {
      "text/html": [
       "<div>\n",
       "<style scoped>\n",
       "    .dataframe tbody tr th:only-of-type {\n",
       "        vertical-align: middle;\n",
       "    }\n",
       "\n",
       "    .dataframe tbody tr th {\n",
       "        vertical-align: top;\n",
       "    }\n",
       "\n",
       "    .dataframe thead th {\n",
       "        text-align: right;\n",
       "    }\n",
       "</style>\n",
       "<table border=\"1\" class=\"dataframe\">\n",
       "  <thead>\n",
       "    <tr style=\"text-align: right;\">\n",
       "      <th></th>\n",
       "      <th>essay_id</th>\n",
       "      <th>score</th>\n",
       "    </tr>\n",
       "  </thead>\n",
       "  <tbody>\n",
       "    <tr>\n",
       "      <th>0</th>\n",
       "      <td>000d118</td>\n",
       "      <td>2</td>\n",
       "    </tr>\n",
       "    <tr>\n",
       "      <th>1</th>\n",
       "      <td>000fe60</td>\n",
       "      <td>3</td>\n",
       "    </tr>\n",
       "    <tr>\n",
       "      <th>2</th>\n",
       "      <td>001ab80</td>\n",
       "      <td>4</td>\n",
       "    </tr>\n",
       "  </tbody>\n",
       "</table>\n",
       "</div>"
      ],
      "text/plain": [
       "  essay_id  score\n",
       "0  000d118      2\n",
       "1  000fe60      3\n",
       "2  001ab80      4"
      ]
     },
     "metadata": {},
     "output_type": "display_data"
    }
   ],
   "source": [
    "submission=pd.read_csv(\"/kaggle/input/learning-agency-lab-automated-essay-scoring-2/sample_submission.csv\")\n",
    "submission['score']=predictions\n",
    "submission['score']=submission['score'].astype(int)\n",
    "submission.to_csv(\"submission.csv\",index=None)\n",
    "display(submission.head())"
   ]
  },
  {
   "cell_type": "code",
   "execution_count": null,
   "id": "d4e6e3bb",
   "metadata": {
    "papermill": {
     "duration": 0.037496,
     "end_time": "2024-04-21T14:52:08.071483",
     "exception": false,
     "start_time": "2024-04-21T14:52:08.033987",
     "status": "completed"
    },
    "tags": []
   },
   "outputs": [],
   "source": []
  },
  {
   "cell_type": "code",
   "execution_count": null,
   "id": "611eafa0",
   "metadata": {
    "papermill": {
     "duration": 0.036529,
     "end_time": "2024-04-21T14:52:08.144817",
     "exception": false,
     "start_time": "2024-04-21T14:52:08.108288",
     "status": "completed"
    },
    "tags": []
   },
   "outputs": [],
   "source": []
  },
  {
   "cell_type": "code",
   "execution_count": null,
   "id": "b669c3b0",
   "metadata": {
    "papermill": {
     "duration": 0.036367,
     "end_time": "2024-04-21T14:52:08.217816",
     "exception": false,
     "start_time": "2024-04-21T14:52:08.181449",
     "status": "completed"
    },
    "tags": []
   },
   "outputs": [],
   "source": []
  },
  {
   "cell_type": "code",
   "execution_count": null,
   "id": "bd7d9048",
   "metadata": {
    "papermill": {
     "duration": 0.036172,
     "end_time": "2024-04-21T14:52:08.291028",
     "exception": false,
     "start_time": "2024-04-21T14:52:08.254856",
     "status": "completed"
    },
    "tags": []
   },
   "outputs": [],
   "source": []
  }
 ],
 "metadata": {
  "kaggle": {
   "accelerator": "gpu",
   "dataSources": [
    {
     "databundleVersionId": 8059942,
     "sourceId": 71485,
     "sourceType": "competition"
    },
    {
     "datasetId": 4832208,
     "sourceId": 8166166,
     "sourceType": "datasetVersion"
    },
    {
     "sourceId": 170434135,
     "sourceType": "kernelVersion"
    },
    {
     "sourceId": 170531930,
     "sourceType": "kernelVersion"
    }
   ],
   "dockerImageVersionId": 30674,
   "isGpuEnabled": true,
   "isInternetEnabled": false,
   "language": "python",
   "sourceType": "notebook"
  },
  "kernelspec": {
   "display_name": "Python 3",
   "language": "python",
   "name": "python3"
  },
  "language_info": {
   "codemirror_mode": {
    "name": "ipython",
    "version": 3
   },
   "file_extension": ".py",
   "mimetype": "text/x-python",
   "name": "python",
   "nbconvert_exporter": "python",
   "pygments_lexer": "ipython3",
   "version": "3.10.13"
  },
  "papermill": {
   "default_parameters": {},
   "duration": 4230.281732,
   "end_time": "2024-04-21T14:52:12.062436",
   "environment_variables": {},
   "exception": null,
   "input_path": "__notebook__.ipynb",
   "output_path": "__notebook__.ipynb",
   "parameters": {},
   "start_time": "2024-04-21T13:41:41.780704",
   "version": "2.5.0"
  },
  "widgets": {
   "application/vnd.jupyter.widget-state+json": {
    "state": {
     "04e276d58cf84da7950cb2a970b313ca": {
      "model_module": "@jupyter-widgets/controls",
      "model_module_version": "1.5.0",
      "model_name": "HTMLModel",
      "state": {
       "_dom_classes": [],
       "_model_module": "@jupyter-widgets/controls",
       "_model_module_version": "1.5.0",
       "_model_name": "HTMLModel",
       "_view_count": null,
       "_view_module": "@jupyter-widgets/controls",
       "_view_module_version": "1.5.0",
       "_view_name": "HTMLView",
       "description": "",
       "description_tooltip": null,
       "layout": "IPY_MODEL_3c991ff84f4641c5833a70feb387418d",
       "placeholder": "​",
       "style": "IPY_MODEL_0c68d6d4cfa8496ca5960689a3f4dfe7",
       "value": "100%"
      }
     },
     "0c68d6d4cfa8496ca5960689a3f4dfe7": {
      "model_module": "@jupyter-widgets/controls",
      "model_module_version": "1.5.0",
      "model_name": "DescriptionStyleModel",
      "state": {
       "_model_module": "@jupyter-widgets/controls",
       "_model_module_version": "1.5.0",
       "_model_name": "DescriptionStyleModel",
       "_view_count": null,
       "_view_module": "@jupyter-widgets/base",
       "_view_module_version": "1.2.0",
       "_view_name": "StyleView",
       "description_width": ""
      }
     },
     "1d27d0334d1a469b8eb78b5ac749612d": {
      "model_module": "@jupyter-widgets/controls",
      "model_module_version": "1.5.0",
      "model_name": "FloatProgressModel",
      "state": {
       "_dom_classes": [],
       "_model_module": "@jupyter-widgets/controls",
       "_model_module_version": "1.5.0",
       "_model_name": "FloatProgressModel",
       "_view_count": null,
       "_view_module": "@jupyter-widgets/controls",
       "_view_module_version": "1.5.0",
       "_view_name": "ProgressView",
       "bar_style": "success",
       "description": "",
       "description_tooltip": null,
       "layout": "IPY_MODEL_33f0aa61fb3f424d81947e642e55d804",
       "max": 3.0,
       "min": 0.0,
       "orientation": "horizontal",
       "style": "IPY_MODEL_d6f3432dd34f409ab86d9e423d99c881",
       "value": 3.0
      }
     },
     "33f0aa61fb3f424d81947e642e55d804": {
      "model_module": "@jupyter-widgets/base",
      "model_module_version": "1.2.0",
      "model_name": "LayoutModel",
      "state": {
       "_model_module": "@jupyter-widgets/base",
       "_model_module_version": "1.2.0",
       "_model_name": "LayoutModel",
       "_view_count": null,
       "_view_module": "@jupyter-widgets/base",
       "_view_module_version": "1.2.0",
       "_view_name": "LayoutView",
       "align_content": null,
       "align_items": null,
       "align_self": null,
       "border": null,
       "bottom": null,
       "display": null,
       "flex": null,
       "flex_flow": null,
       "grid_area": null,
       "grid_auto_columns": null,
       "grid_auto_flow": null,
       "grid_auto_rows": null,
       "grid_column": null,
       "grid_gap": null,
       "grid_row": null,
       "grid_template_areas": null,
       "grid_template_columns": null,
       "grid_template_rows": null,
       "height": null,
       "justify_content": null,
       "justify_items": null,
       "left": null,
       "margin": null,
       "max_height": null,
       "max_width": null,
       "min_height": null,
       "min_width": null,
       "object_fit": null,
       "object_position": null,
       "order": null,
       "overflow": null,
       "overflow_x": null,
       "overflow_y": null,
       "padding": null,
       "right": null,
       "top": null,
       "visibility": null,
       "width": null
      }
     },
     "3c991ff84f4641c5833a70feb387418d": {
      "model_module": "@jupyter-widgets/base",
      "model_module_version": "1.2.0",
      "model_name": "LayoutModel",
      "state": {
       "_model_module": "@jupyter-widgets/base",
       "_model_module_version": "1.2.0",
       "_model_name": "LayoutModel",
       "_view_count": null,
       "_view_module": "@jupyter-widgets/base",
       "_view_module_version": "1.2.0",
       "_view_name": "LayoutView",
       "align_content": null,
       "align_items": null,
       "align_self": null,
       "border": null,
       "bottom": null,
       "display": null,
       "flex": null,
       "flex_flow": null,
       "grid_area": null,
       "grid_auto_columns": null,
       "grid_auto_flow": null,
       "grid_auto_rows": null,
       "grid_column": null,
       "grid_gap": null,
       "grid_row": null,
       "grid_template_areas": null,
       "grid_template_columns": null,
       "grid_template_rows": null,
       "height": null,
       "justify_content": null,
       "justify_items": null,
       "left": null,
       "margin": null,
       "max_height": null,
       "max_width": null,
       "min_height": null,
       "min_width": null,
       "object_fit": null,
       "object_position": null,
       "order": null,
       "overflow": null,
       "overflow_x": null,
       "overflow_y": null,
       "padding": null,
       "right": null,
       "top": null,
       "visibility": null,
       "width": null
      }
     },
     "4a1ac80b77814307a72b730d32f0f561": {
      "model_module": "@jupyter-widgets/controls",
      "model_module_version": "1.5.0",
      "model_name": "DescriptionStyleModel",
      "state": {
       "_model_module": "@jupyter-widgets/controls",
       "_model_module_version": "1.5.0",
       "_model_name": "DescriptionStyleModel",
       "_view_count": null,
       "_view_module": "@jupyter-widgets/base",
       "_view_module_version": "1.2.0",
       "_view_name": "StyleView",
       "description_width": ""
      }
     },
     "4ec90345e80d40debef401d41a1a17dd": {
      "model_module": "@jupyter-widgets/base",
      "model_module_version": "1.2.0",
      "model_name": "LayoutModel",
      "state": {
       "_model_module": "@jupyter-widgets/base",
       "_model_module_version": "1.2.0",
       "_model_name": "LayoutModel",
       "_view_count": null,
       "_view_module": "@jupyter-widgets/base",
       "_view_module_version": "1.2.0",
       "_view_name": "LayoutView",
       "align_content": null,
       "align_items": null,
       "align_self": null,
       "border": null,
       "bottom": null,
       "display": null,
       "flex": null,
       "flex_flow": null,
       "grid_area": null,
       "grid_auto_columns": null,
       "grid_auto_flow": null,
       "grid_auto_rows": null,
       "grid_column": null,
       "grid_gap": null,
       "grid_row": null,
       "grid_template_areas": null,
       "grid_template_columns": null,
       "grid_template_rows": null,
       "height": null,
       "justify_content": null,
       "justify_items": null,
       "left": null,
       "margin": null,
       "max_height": null,
       "max_width": null,
       "min_height": null,
       "min_width": null,
       "object_fit": null,
       "object_position": null,
       "order": null,
       "overflow": null,
       "overflow_x": null,
       "overflow_y": null,
       "padding": null,
       "right": null,
       "top": null,
       "visibility": null,
       "width": null
      }
     },
     "a1e1cfd46c724ec39f10ba963bf7eda5": {
      "model_module": "@jupyter-widgets/base",
      "model_module_version": "1.2.0",
      "model_name": "LayoutModel",
      "state": {
       "_model_module": "@jupyter-widgets/base",
       "_model_module_version": "1.2.0",
       "_model_name": "LayoutModel",
       "_view_count": null,
       "_view_module": "@jupyter-widgets/base",
       "_view_module_version": "1.2.0",
       "_view_name": "LayoutView",
       "align_content": null,
       "align_items": null,
       "align_self": null,
       "border": null,
       "bottom": null,
       "display": null,
       "flex": null,
       "flex_flow": null,
       "grid_area": null,
       "grid_auto_columns": null,
       "grid_auto_flow": null,
       "grid_auto_rows": null,
       "grid_column": null,
       "grid_gap": null,
       "grid_row": null,
       "grid_template_areas": null,
       "grid_template_columns": null,
       "grid_template_rows": null,
       "height": null,
       "justify_content": null,
       "justify_items": null,
       "left": null,
       "margin": null,
       "max_height": null,
       "max_width": null,
       "min_height": null,
       "min_width": null,
       "object_fit": null,
       "object_position": null,
       "order": null,
       "overflow": null,
       "overflow_x": null,
       "overflow_y": null,
       "padding": null,
       "right": null,
       "top": null,
       "visibility": null,
       "width": null
      }
     },
     "cdd52ab45d5a47b0bcb884be9a2ec0e1": {
      "model_module": "@jupyter-widgets/controls",
      "model_module_version": "1.5.0",
      "model_name": "HBoxModel",
      "state": {
       "_dom_classes": [],
       "_model_module": "@jupyter-widgets/controls",
       "_model_module_version": "1.5.0",
       "_model_name": "HBoxModel",
       "_view_count": null,
       "_view_module": "@jupyter-widgets/controls",
       "_view_module_version": "1.5.0",
       "_view_name": "HBoxView",
       "box_style": "",
       "children": [
        "IPY_MODEL_04e276d58cf84da7950cb2a970b313ca",
        "IPY_MODEL_1d27d0334d1a469b8eb78b5ac749612d",
        "IPY_MODEL_ecd0c8947d2c470cb60d2e4fdfea97b4"
       ],
       "layout": "IPY_MODEL_a1e1cfd46c724ec39f10ba963bf7eda5"
      }
     },
     "d6f3432dd34f409ab86d9e423d99c881": {
      "model_module": "@jupyter-widgets/controls",
      "model_module_version": "1.5.0",
      "model_name": "ProgressStyleModel",
      "state": {
       "_model_module": "@jupyter-widgets/controls",
       "_model_module_version": "1.5.0",
       "_model_name": "ProgressStyleModel",
       "_view_count": null,
       "_view_module": "@jupyter-widgets/base",
       "_view_module_version": "1.2.0",
       "_view_name": "StyleView",
       "bar_color": null,
       "description_width": ""
      }
     },
     "ecd0c8947d2c470cb60d2e4fdfea97b4": {
      "model_module": "@jupyter-widgets/controls",
      "model_module_version": "1.5.0",
      "model_name": "HTMLModel",
      "state": {
       "_dom_classes": [],
       "_model_module": "@jupyter-widgets/controls",
       "_model_module_version": "1.5.0",
       "_model_name": "HTMLModel",
       "_view_count": null,
       "_view_module": "@jupyter-widgets/controls",
       "_view_module_version": "1.5.0",
       "_view_name": "HTMLView",
       "description": "",
       "description_tooltip": null,
       "layout": "IPY_MODEL_4ec90345e80d40debef401d41a1a17dd",
       "placeholder": "​",
       "style": "IPY_MODEL_4a1ac80b77814307a72b730d32f0f561",
       "value": " 3/3 [00:00&lt;00:00, 122.97ex/s]"
      }
     }
    },
    "version_major": 2,
    "version_minor": 0
   }
  }
 },
 "nbformat": 4,
 "nbformat_minor": 5
}
